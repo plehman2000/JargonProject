{
 "cells": [
  {
   "cell_type": "code",
   "execution_count": 1,
   "id": "834e8ae7",
   "metadata": {
    "scrolled": false
   },
   "outputs": [
    {
     "data": {
      "application/vnd.jupyter.widget-view+json": {
       "model_id": "54c2005e181646f982932b7d2f8d125f",
       "version_major": 2,
       "version_minor": 0
      },
      "text/plain": [
       "Downloading:   0%|          | 0.00/230 [00:00<?, ?B/s]"
      ]
     },
     "metadata": {},
     "output_type": "display_data"
    },
    {
     "name": "stderr",
     "output_type": "stream",
     "text": [
      "Couldn't reach server at 'https://s3.amazonaws.com/models.huggingface.co/bert/bert-large-uncased-whole-word-masking-modelcard.json' to download model card file.\n",
      "Creating an empty model card.\n"
     ]
    },
    {
     "data": {
      "application/vnd.jupyter.widget-view+json": {
       "model_id": "d12080bc146c4d5da3a49db4985dcdd5",
       "version_major": 2,
       "version_minor": 0
      },
      "text/plain": [
       "Downloading:   0%|          | 0.00/230 [00:00<?, ?B/s]"
      ]
     },
     "metadata": {},
     "output_type": "display_data"
    },
    {
     "name": "stderr",
     "output_type": "stream",
     "text": [
      "Couldn't reach server at 'https://s3.amazonaws.com/models.huggingface.co/bert/bert-base-cased-modelcard.json' to download model card file.\n",
      "Creating an empty model card.\n"
     ]
    }
   ],
   "source": [
    "from transformers import pipeline\n",
    "large_masker = pipeline('fill-mask', model = 'bert-large-uncased-whole-word-masking')\n",
    "base_masker = pipeline('fill-mask', model='bert-base-cased')"
   ]
  },
  {
   "cell_type": "code",
   "execution_count": 15,
   "id": "fe06e3f8",
   "metadata": {
    "scrolled": true
   },
   "outputs": [],
   "source": [
    "import PyPDF2 as py\n",
    "import nltk.data as nl\n",
    "from tika import parser\n",
    "import os\n",
    "import spacy\n",
    "import en_core_web_sm\n",
    "import re\n",
    "from spacy.lang.en.stop_words import STOP_WORDS\n",
    "from collections import Counter\n",
    "import transformers\n",
    "from tika import parser\n",
    "import bs4"
   ]
  },
  {
   "cell_type": "code",
   "execution_count": 41,
   "id": "f612261b",
   "metadata": {
    "scrolled": true
   },
   "outputs": [],
   "source": [
    "def numPages(file_name):\n",
    "    file_name = file_name + '.pdf'\n",
    "    file_path = os.getcwd() + '\\\\' + file_name\n",
    "    pdf = open(file_path, 'rb')\n",
    "    pdf_read = py.PdfFileReader(pdf)\n",
    "    print(pdf_read.getNumPages())\n",
    "    \n",
    "def displayPDF(file_name, begin, end):\n",
    "    len = end - begin\n",
    "    #print(file_name + '.pdf')\n",
    "    file_name = file_name + '.pdf'\n",
    "    file_path = os.getcwd() + '\\\\' + file_name\n",
    "    with open(file_path, mode = 'rb') as f:\n",
    "        for i in range(len + 1):\n",
    "            reader = py.PdfFileReader(f)\n",
    "            page = reader.getPage(begin + i - 1)\n",
    "            print(page.extractText())\n",
    "            \n",
    "def displayAll(file_name):\n",
    "    file_name = file_name + '.pdf'\n",
    "    file_path = os.getcwd() + '\\\\' + file_name\n",
    "    pdf = open(file_path, 'rb')\n",
    "    pdf_read = py.PdfFileReader(pdf)\n",
    "    i = 0\n",
    "    while i < pdf_read.getNumPages():\n",
    "        page = pdf_read.getPage(i)\n",
    "        text = page.extractText()\n",
    "        print(text)\n",
    "        i = i + 1\n",
    "\n",
    "def ExtractText(file_name):\n",
    "    raw = parser.from_file(os.getcwd() + '\\\\' + file_name + '.pdf',xmlContent=True)\n",
    "    return raw['content'][45:] \n",
    "\n",
    "def ExtractNouns(name):\n",
    "    nlp = spacy.load(\"en_core_web_sm\")\n",
    "    pdf = nlp(name)\n",
    "    nouns = []\n",
    "    for token in pdf:\n",
    "        if token.pos_ == \"NOUN\":\n",
    "            nouns.append(token)\n",
    "    return nouns\n",
    "\n",
    "def ExtractVerbs(name):\n",
    "    nlp = spacy.load(\"en_core_web_sm\")\n",
    "    pdf = nlp(name)\n",
    "    verbs = []\n",
    "    for token in pdf:\n",
    "        if token.pos_ == \"VERB\":\n",
    "            verbs.append(token)\n",
    "    return verbs\n",
    "\n",
    "def ExtractAdjectives(name):\n",
    "    nlp = spacy.load(\"en_core_web_sm\")\n",
    "    pdf = nlp(name)\n",
    "    adjectives = []\n",
    "    for token in pdf:\n",
    "        if token.pos_ == \"ADJECTIVES\":\n",
    "            adjectives.append(token)\n",
    "    return adjectives\n",
    "\n",
    "def toLowerCase(list):\n",
    "    new_list = []\n",
    "    for word in list:\n",
    "        word = word.lower()\n",
    "        new_list.append(word)\n",
    "    return new_list\n",
    "\n",
    "def clean(input_list):\n",
    "    return [w for w in [str(tok) for tok in input_list] if len(w) > 0 and not w.isdigit()]\n",
    "    \n",
    "\n",
    "def Filter(list):\n",
    "    list_clean = clean(list)\n",
    "    new_list = []\n",
    "    list_lower = toLowerCase(list_clean)\n",
    "    jargon = ExtractText('PoliticalJargon')\n",
    "    jargonNouns = ExtractNouns(jargon)\n",
    "    jargonNouns_clean = clean(jargonNouns)\n",
    "    jargonNouns_lower = toLowerCase(jargonNouns_clean)\n",
    "    for noun in list_lower:\n",
    "        for political_noun in jargonNouns_lower:\n",
    "            if noun == political_noun:\n",
    "                new_list.append(noun)    \n",
    "    return set(new_list)\n",
    "                \n",
    "def wordsRemoved(list1, list2):\n",
    "    s1 = set(list1)\n",
    "    s2 = set(list2)\n",
    "    return s2 - s1\n",
    "\n",
    "def getJargoninMap(name):\n",
    "    PDF_list = list(name.split(\".\"))\n",
    "    \n",
    "    PDF_verbs = ExtractVerbs(name)\n",
    "    PDF_filtered_verbs = Filter(PDF_verbs)\n",
    "    verbs_dict = {}\n",
    "    for word in PDF_filtered_verbs:\n",
    "        verbs_dict[word] = 'Verb'\n",
    "    nouns_dict = {}\n",
    "    PDF_nouns = ExtractNouns(name)\n",
    "    PDF_filtered_nouns = Filter(PDF_nouns)\n",
    "    for word in PDF_filtered_nouns:\n",
    "        nouns_dict[word] = 'Noun'\n",
    "    jargon = {**verbs_dict, **nouns_dict}\n",
    "    if '-' in jargon:\n",
    "        del jargon['-']\n",
    "    return jargon\n",
    "    \n",
    "def paragraphs(text):\n",
    "  exampleSoup = bs4.BeautifulSoup(text, 'html.parser')\n",
    "  pages = exampleSoup.select(\"p\")\n",
    "  paragraphs = []\n",
    "  i = 0\n",
    "  for item in pages:\n",
    "\n",
    "    if (len(item.getText()) > 15 and item.getText().strip().endswith(\".\")==True):\n",
    "      if(item.getText().split(\".\")[0].istitle()== False):\n",
    "        k = item.getText().replace(\"\\n\", \" \")\n",
    "        paragraphs.append(k)\n",
    "\n",
    "  return paragraphs\n",
    "\n"
   ]
  },
  {
   "cell_type": "code",
   "execution_count": 42,
   "id": "6d363a29",
   "metadata": {},
   "outputs": [],
   "source": [
    "Capitalism1 = ExtractText('Capitalism1')"
   ]
  },
  {
   "cell_type": "code",
   "execution_count": 43,
   "id": "ced896c8",
   "metadata": {},
   "outputs": [],
   "source": [
    "x = paragraphs(Capitalism1)"
   ]
  },
  {
   "cell_type": "code",
   "execution_count": 44,
   "id": "2a45394e",
   "metadata": {},
   "outputs": [
    {
     "name": "stdout",
     "output_type": "stream",
     "text": [
      "[]\n"
     ]
    }
   ],
   "source": [
    "print(x)"
   ]
  },
  {
   "cell_type": "code",
   "execution_count": 45,
   "id": "2c1f22a7",
   "metadata": {
    "scrolled": true
   },
   "outputs": [],
   "source": [
    "jargon = getJargoninMap(Capitalism1)"
   ]
  },
  {
   "cell_type": "code",
   "execution_count": 46,
   "id": "ae8d29d2",
   "metadata": {},
   "outputs": [
    {
     "data": {
      "text/plain": [
       "dict"
      ]
     },
     "execution_count": 46,
     "metadata": {},
     "output_type": "execute_result"
    }
   ],
   "source": [
    "type(jargon)"
   ]
  },
  {
   "cell_type": "code",
   "execution_count": 47,
   "id": "6a730f38",
   "metadata": {
    "scrolled": false
   },
   "outputs": [
    {
     "name": "stdout",
     "output_type": "stream",
     "text": [
      "{'run': 'Noun', 'monopoly': 'Verb', 'benefit': 'Verb', 'path': 'Noun', 'class': 'Noun', 'forces': 'Noun', 'nationalism': 'Noun', 'framework': 'Noun', 'inflation': 'Noun', 'exchange': 'Noun', 'trade': 'Noun', 'profit': 'Noun', 'capital': 'Noun', 'opinion': 'Noun', 'account': 'Noun', 'risk': 'Noun', 'regulations': 'Noun', 'centre': 'Noun', 'order': 'Noun', 'creation': 'Noun', 'system': 'Noun', 'term': 'Noun', 'tendency': 'Noun', 'figure': 'Noun', 'wage': 'Noun', 'utility': 'Noun', 'economies': 'Noun', 'wages': 'Noun', 'consumer': 'Noun', 'way': 'Noun', 'advantage': 'Noun', 'problem': 'Noun', 'growth': 'Noun', 'dichotomy': 'Noun', 'power': 'Noun', 'process': 'Noun', 'demand': 'Noun', 'factor': 'Noun', 'workers': 'Noun', 'cost': 'Noun', 'savings': 'Noun', 'money': 'Noun', 'tradition': 'Noun', 'business': 'Noun', 'globalizations': 'Noun', 'print': 'Noun', 'unemployment': 'Noun', 'advance': 'Noun', 'economy': 'Noun', 'price': 'Noun', 'theory': 'Noun', 'people': 'Noun', 'output': 'Noun', 'rules': 'Noun', 'development': 'Noun', 'hand': 'Noun', 'globalization': 'Noun', 'economics': 'Noun', 'value': 'Noun', 'policy': 'Noun', 'balance': 'Noun', 'peace': 'Noun', 'labour': 'Noun', 'entry': 'Noun', 'rate': 'Noun', 'crisis': 'Noun', 'surge': 'Noun', 'firms': 'Noun', 'employment': 'Noun', 'socialism': 'Noun', '-': 'Noun', 'policies': 'Noun', 'progress': 'Noun', 'capacity': 'Noun', 'markets': 'Noun', 'prices': 'Noun', 'population': 'Noun', 'metaphors': 'Noun', 'capitalism': 'Noun', 'goods': 'Noun', 'time': 'Noun', 'state': 'Noun', 'costs': 'Noun', 'competition': 'Noun', 'agency': 'Noun', 'freedom': 'Noun', 'title': 'Noun', 'model': 'Noun', 'issue': 'Noun', 'methods': 'Noun', 'motive': 'Noun', 'nation': 'Noun', 'politics': 'Noun', 'wars': 'Noun', 'terms': 'Noun', 'return': 'Noun', 'hypothesis': 'Noun', 'supply': 'Noun', 'barriers': 'Noun', 'democracy': 'Noun', 'market': 'Noun', 'trading': 'Noun', 'standard': 'Noun', 'firm': 'Noun', 'analysis': 'Noun', 'powers': 'Noun', 'production': 'Noun', 'income': 'Noun', 'gold': 'Noun'}\n"
     ]
    }
   ],
   "source": [
    "print(jargon)"
   ]
  },
  {
   "cell_type": "code",
   "execution_count": 48,
   "id": "16c19ff2",
   "metadata": {},
   "outputs": [],
   "source": [
    "## Everything Necessary is above. Everything below is just for further analysis and not necessary"
   ]
  },
  {
   "cell_type": "code",
   "execution_count": 49,
   "id": "236b919c",
   "metadata": {
    "scrolled": true
   },
   "outputs": [
    {
     "name": "stdout",
     "output_type": "stream",
     "text": [
      "[led, can, found, https://www.tandfonline.com/loi/yjcr20, cite, link, Published, Published, Submit, Citing, citing, https://www.tandfonline.com/doi/citedby/10.1080/14767430.2017.1332807#tabModule, https://www.tandfonline.com/doi/citedby/10.1080/14767430.2017.1332807#tabModule, can, specified, put, know, offers, seems, offered, glimpse, attempt, may, weaving, overlap, viewed, turning, rendered, will, returning, achieve, provide, understanding, provides, provides, covers, Given, describing, assessing, indicates, analyse, understand, driven, regulates, generate, recurring, cending, given, sets, turns, seek, suffer, surviving, go, bought, may, make, attract, trying, overcome, involving, seeks, achieve, REALISM, relying, explores, Consider, assume, maximizing, optimizing, explain, respond, constrained, suffices, arise, dictate, can, intervene, breaking, forms, grounded, maintains, determine, run, grounded, comes, frames, developed, appears, improve, seems, emerges, evolve, changes, managed, retain, puzzled, read, gives, recurring, see, linked, argues, reveals, recurring, displays, calls, measured, seems, indicate, disagree, expressed, point, reading, telling, doubled, grown, indicates, increasing, declined, close, assumes, measured, varies, must, take, move, may, reflect, would, rising, Given, contrasting, underlying, might, ask, can, identify, may, rely, allow, acknowledge, concerning, see, see, matter, displays, criticizes, determined, construed, monopoly, assume, say, concurring, stresses, respond, explores, emerging, would, expect, would, decrease, increase, might, affecting, implies, continues, pointing, led, may, generate, holds, according, will, undermine, increased, chosen, will, sound, ing, REALISM, can, read, argues, prevail, co, determine, remains, can, achieve, constrained, would, change, reached, live, accept, can, see, works, becomes, use, may, approach, seems, follow, relies, turning, becomes, explained, saying, implying, reaching, criticizes, know, arise, resisted, Mehrling, seems, confuse, emerging, tied, develop, defend, developed, think, give, developed, emerges, consists, causes, determined, specified, determined, determine, assume, including, must, consist, occurs, agree, define, presuppose, closed, attempting, determine, estimated, tend, break, endogenize, leaves, overcoming, downplays, serve, undermine, leave, enduring, change, tries, seeing, generating, may, may, result, can, reiterate, recurring, must, taken, acknowledges, change, can, make, studying, constituted, learnt, resorts, closed, wants, cover, endogenizing, struggles, holds, doing, becomes, would, benefit, rethinking, define, characterize, known, use, theorized, talked, analysed, became, describing, characterized, established, insisted, distinguishing, anticipated, discusses, covers, focusses, started, following, avoids, mentioning, made, REALISM, published, argued, adjusting, connected, existed, born, emerged, Following, related, swept, placed, governing, illuminating, becoming, regulating, leads, intensified, seems, heading, argues, implies, comes, may, result, seems, committed, assumes, seems, reproducing, linked, closed, covering, consider, provide, would, require, matizing, reconstructing, remains, needed, Enlightened, edited, Thought, Can, Happen, Published, distributed, permits, provided, cited, altered, transformed, built, JOURNAL, REALISM]\n"
     ]
    }
   ],
   "source": [
    "CapitatlismVerbs = ExtractVerbs(Capitalism1)\n",
    "print(CapitatlismVerbs)"
   ]
  },
  {
   "cell_type": "code",
   "execution_count": 50,
   "id": "f4c42f1b",
   "metadata": {
    "scrolled": true
   },
   "outputs": [
    {
     "name": "stdout",
     "output_type": "stream",
     "text": [
      "{'run', 'monopoly', 'benefit'}\n"
     ]
    }
   ],
   "source": [
    "filteredVerbs = Filter(CapitatlismVerbs)\n",
    "print(filteredVerbs)"
   ]
  },
  {
   "cell_type": "code",
   "execution_count": 51,
   "id": "5c3bed7b",
   "metadata": {},
   "outputs": [
    {
     "name": "stdout",
     "output_type": "stream",
     "text": [
      "{'tries', 'use', 'closed', 'ask', 'resisted', 'explain', 'citing', 'put', 'prevail', 'born', 'approach', 'frames', 'underlying', 'accept', 'criticizes', 'serve', 'acknowledges', 'consists', 'specified', 'led', 'developed', 'characterize', 'agree', 'point', 'construed', 'arise', 'understanding', 'undermine', 'doing', 'make', 'optimizing', 'affecting', 'heading', 'regulates', 'emerging', 'give', 'describing', 'reconstructing', 'estimated', 'see', 'given', 'trying', 'say', 'https://www.tandfonline.com/loi/yjcr20', 'covers', 'take', 'might', 'go', 'expressed', 'define', 'relying', 'result', 'submit', 'causes', 'overcoming', 'reflect', 'acknowledge', 'wants', 'doubled', 'close', 'mentioning', 'leads', 'increasing', 'surviving', 'provided', 'evolve', 'provide', 'turns', 'indicates', 'analysed', 'maximizing', 'constituted', 'indicate', 'leaves', 'altered', 'follow', 'swept', 'would', 'adjusting', 'appears', 'comes', 'require', 'decrease', 'contrasting', 'https://www.tandfonline.com/doi/citedby/10.1080/14767430.2017.1332807#tabmodule', 'pointing', 'develop', 'emerged', 'insisted', 'governing', 'managed', 'suffer', 'live', 'existed', 'attempt', 'rely', 'relies', 'cending', 'tied', 'assume', 'stresses', 'expect', 'dictate', 'allow', 'matter', 'respond', 'discusses', 'link', 'generate', 'rendered', 'established', 'following', 'distinguishing', 'talked', 'analyse', 'enduring', 'increase', 'generating', 'according', 'started', 'turning', 'determined', 'change', 'made', 'move', 'returning', 'break', 'regulating', 'reading', 'endogenizing', 'calls', 'forms', 'known', 'understand', 'displays', 'implying', 'endogenize', 'may', 'edited', 'seems', 'reiterate', 'disagree', 'reached', 'characterized', 'permits', 'built', 'remains', 'offers', 'concerning', 'cite', 'argued', 'leave', 'seek', 'taken', 'explores', 'telling', 'learnt', 'reveals', 'becomes', 'confuse', 'needed', 'viewed', 'breaking', 'assumes', 'focusses', 'read', 'holds', 'weaving', 'cover', 'overlap', 'chosen', 'changes', 'concurring', 'defend', 'consist', 'intensified', 'seeks', 'declined', 'overcome', 'studying', 'bought', 'anticipated', 'increased', 'thought', 'reaching', 'explained', 'including', 'grown', 'occurs', 'mehrling', 'distributed', 'happen', 'emerges', 'rethinking', 'measured', 'think', 'attempting', 'maintains', 'recurring', 'linked', 'provides', 'enlightened', 'realism', 'reproducing', 'attract', 'struggles', 'cited', 'committed', 'driven', 'offered', 'argues', 'tend', 'sets', 'achieve', 'theorized', 'connected', 'rising', 'ing', 'varies', 'assessing', 'downplays', 'will', 'determine', 'presuppose', 'intervene', 'retain', 'published', 'sound', 'constrained', 'covering', 'glimpse', 'transformed', 'co', 'related', 'involving', 'can', 'know', 'found', 'works', 'continues', 'resorts', 'puzzled', 'avoids', 'journal', 'saying', 'must', 'becoming', 'identify', 'matizing', 'became', 'grounded', 'suffices', 'gives', 'improve', 'seeing', 'illuminating', 'placed', 'implies', 'consider'}\n"
     ]
    }
   ],
   "source": [
    "verbsRemoved = wordsRemoved(filteredVerbs, toLowerCase(clean(CapitatlismVerbs)))\n",
    "print(verbsRemoved)"
   ]
  },
  {
   "cell_type": "code",
   "execution_count": 52,
   "id": "090b3b8f",
   "metadata": {
    "scrolled": true
   },
   "outputs": [
    {
     "name": "stdout",
     "output_type": "stream",
     "text": [
      "[access, use, Print, homepage, Capitalism, Competition, Conflict, Crisis, article, Capitalism, Competition, Conflict, article, Author(s, trading, article, journal, Article, views, articles, data, articles, articles, advance, risk, possibility, transformation, engagement, art, theory, case, study, engagement, happening, truth, engagement, possibility, transformation, appraisal, vision, curriculum, education, chimera, constellation, teacher, student, curricu-, lum, matter, book, thing, interpretation, tradition, concern, discussion, methodology, journey, set, meanderings, pathways, circle, re, -, mapping, land-, scape, university, anthropology, gaze, homeland, trading, Capitalism, Competition, Conflict, book, time, time, attempt, objective, framework, economies, source, discussions, theory, economy, book, framework, theory, ambition, scope, book, review, undertaking, whole, title, book, ambition, capitalism, system, Capitalism, profit, motive, supply, demand, capitalism, forces, patterns, particularities, profit, motive, forces, intensity, competition, capitalism, number, firms, market, competition, seeking, firms, market, competition, profits, losses, year, year, others, business, firms, Winners, time, time, profits, upswing, markets, firms, barriers, entry, barriers, competition, war, tactics, strategy, whole, firm, advantages, understanding, competition, approach, conceptions, models, model, competition, economics, processes, system, capitalism, consumer, behaviour, need, utility, behaviour, part, metaphysics, order, tendency, consumers, price, rises, price, decreases, People, incomes, ten-, dency, tendency, responses, outcome, price, changes, processes, mechanisms, concerns, accounts, waves, aspect, path, project, return, tradition, image, tradition, basis, number, ideas, turn, evidence, instance, labour, costs, prices, claim, labour, theory, value, story, book, whole, terms, concern, nature, world, develop-, ments, hand, history, world, progress, Standards, living, rise, health, being, welfare, hand, unevenness, localities, regions, nations, time, form, booms, busts, break-, downs, Order, disorder, Unevenness, disorder, circumstances, crises, recoveries, part, process, question, system, institutions, regulations, structures, pat-, question, decades, crisis, tendency, market, economy, financialization, rise, pattern, booms, busts, bit, problematic, idea, waves, development, PhD, thesis, Crises, speakers, history, capitalism, centuries, patterns, booms, busts, Figure, waves, waves, price, levels, terms, gold, figure, wave, opinion, turning, point, differences, difficulties, macrohistory, stories, world, history, terms, period, 1970s, period, growth, world, population, capita, income, factor, world, GDP, capita, figure, rate, growth, estimation, welfare, terms, factor, period, average, growth, rate, %, %, world, REVIEWS, price, level, deviations, trend, price, levels, terms, gold, price, kinds, reasons, response, turbulence, markets, step, theory, interpretation, assumption, conclusion, wave, world, economy, wave, changes, price, gold, hypothesis, uncertainties, financialization, explanations, causes, trend, prices, nature, models, clarifies, times, demi, regularities, example, demi, regularity, contrast, periods, stand, role, metaphors, discussions, waves, world, economy, basis, models, dependency, thinking, metaphors, politics, capitalism, realities, poten-, struggle, capital, labour, case, point, heterodoxy, implication, orthodox, approaches, workers, say, standard, living, theories, wage, level, labour, pro-, ductivity, requirements, employment, ups, economists, wages, worker, productivity, post, role, position, individuals, labour, markets, theories, ways, bargaining, struggles, matter, conditions, institutions, points, amount, labour, change, ments, effects, labour, struggles, wage, wage, share, connections, labour, strength, variables, employment, business, savings, investments, inflation, picture, basis, criticism, theories, instance, acceleration, demand, policy, state, unemployment, wage, share, effects, demand, injection, process, accumulation, gravitation, capacity, utilization, rate, rate, profit, gravitates, rate, demand, circle, output, productivity, growth, while, run, idea, fall, profitability, effects, demand, policy, terms, position, policy, rate, accumulation, unemployment, labour, end, explanations, contrary, rate, unemployment, rate, unemployment, inflation, rate, unemployment, return, ideas, economy, ways, reading, thinker, capit-, alism, system, laws, balance, power, labour, capital, policy, -, outcomes, system, degrees, freedom, agency, Struggles, improvements, space, state, policy, kinds, ways, idea, system, whole, structures, reading, thinker, pessimist, conclusion, capitalism, laws, alternative, capitalism, limits, constraints, future, understanding, system, ering, limit, metaphor, position, position, policy, advice, pessimism, approach, part, book, stan-, dard, techniques, modelling, variables, system, system, whole, variables, terms, differences, orthodoxy, levels, differences, points, convergence, instance, theory, money, position, states, money, taxes, stage, response, states, nation, response, state, argument, origins, money, creation, states, system, world, origin, money, consciousness, development, thinking, origins, writing, mathematics, space, argument, purpose, claims, example, powers, money, cre-, ation, point, example, contentions, ideas, policies, theorists, times, tacit, convergence, orthodoxy, methodology, realist, view, controversies, theory, debates, causes, B, B, A, A, B, model, model, instance, money, savings, investments, investments, savings, sorts, methods, economists, world, systems, system, event, regularity, A, B, conditions, theorists, causes, B, vice, versa, techniques, REVIEWS, frequencies, measurability, systems, event, conjunctions, problem, studies, relationships, problem, tendency, variables, space, agency, freedom, history, politics, alternatives, sustainability, democracy, eman-, cipation, learning, alienation, socialism, alternatives, assumptions, ethico-, intentions, assumptions, edifice, grounds, systems, event, regularities, ways, realist, forces, mechanisms, tendencies, outcomes, systems, forces, mechanisms, change, agreement, importance, patterns, issue, account, theory, economy, institutions, regulations, structures, changes, difference, forces, mechanisms, tendencies, economy, institutions, regulations, structures, forms, subjectivity, agency, lot, discussions, theory, point, discussions, book, forms, modelling, estimation, systems, topics, economics, ables, metamodel, system, whole, capital, labour, politico, thinking, project, ontology, causation, systems, Conclusions, capitalism, alism, fashion, term, capitalism, capital, capitalists, class, capi-, mode, production, term, capitalism, century, criti-, cal, term, society, system, dominance, capitalists, ideas, book, meaning, term, entrepreneurs, capi-, talists, capital-, ism, decline, passages, term, developments, per-, data, time, era, growth, 1820s, wars, theorists, impact, understanding, nature, rise, market, society, theorists, self, markets, constructs, rise, i, gain, orientation, market, economy, iii, state, transformation, markets, avenue, exchange, goods, market, society, changes, transformation, century, memorable, formu-, lation, world, surge, planetary, economy, rules, world, economy, centre, analyti-, cal, framework, framework, causes, turmoil, disorder, 2010s, vision, self, markets, peace, conflict, viewpoint, world, circumstances, future, globalization, theory, trade, terms, theory, competition, success, cost, advantage, level, firms, imbalances, world, economy, Chapter, spite, observations, part, nationalism, models, analysis, nation, state, container, processes, dichotomy, economics, tenets, reliance, systems, method-, ology, part, analysis, book, handbook, variety, topics, review, conclusion, Capitalism, foundation, theory, methodology, ontology, economy, level, half, characteristics, discourse, modernity, freedom, References, Principles, History, syklit, Crises, Philosophy, Mind, M.E.Sharpe, Century, Movement, Globalizations, REVIEWS, Money, Theory, Author(s, trading, Access, article, terms, use, distribution, reproduction, medium, work, way]\n"
     ]
    }
   ],
   "source": [
    "\n",
    "CapitatlismNouns = ExtractNouns(Capitalism1)\n",
    "print(CapitatlismNouns)"
   ]
  },
  {
   "cell_type": "code",
   "execution_count": 53,
   "id": "7a9e26cc",
   "metadata": {
    "scrolled": true
   },
   "outputs": [
    {
     "name": "stdout",
     "output_type": "stream",
     "text": [
      "{'path', 'class', 'forces', 'nationalism', 'framework', 'inflation', 'exchange', 'trade', 'profit', 'capital', 'opinion', 'account', 'risk', 'regulations', 'centre', 'order', 'creation', 'system', 'term', 'tendency', 'figure', 'wage', 'utility', 'economies', 'wages', 'consumer', 'way', 'advantage', 'problem', 'growth', 'dichotomy', 'power', 'process', 'demand', 'factor', 'workers', 'cost', 'savings', 'money', 'tradition', 'business', 'globalizations', 'print', 'unemployment', 'advance', 'economy', 'price', 'theory', 'people', 'output', 'rules', 'development', 'hand', 'globalization', 'economics', 'value', 'policy', 'balance', 'peace', 'labour', 'entry', 'rate', 'crisis', 'surge', 'firms', 'employment', 'socialism', '-', 'policies', 'progress', 'capacity', 'run', 'markets', 'prices', 'population', 'metaphors', 'capitalism', 'goods', 'time', 'state', 'costs', 'competition', 'agency', 'freedom', 'title', 'model', 'issue', 'methods', 'motive', 'nation', 'politics', 'wars', 'terms', 'return', 'hypothesis', 'supply', 'barriers', 'democracy', 'market', 'trading', 'standard', 'firm', 'analysis', 'powers', 'production', 'income', 'gold'}\n"
     ]
    }
   ],
   "source": [
    "filteredNouns = Filter(CapitatlismNouns)\n",
    "print(filteredNouns)"
   ]
  },
  {
   "cell_type": "code",
   "execution_count": 54,
   "id": "b4085451",
   "metadata": {
    "scrolled": true
   },
   "outputs": [
    {
     "name": "stdout",
     "output_type": "stream",
     "text": [
      "{'era', 'particularities', 'dency', 'alism', 'use', 'dard', 'ontology', 'evidence', 'speakers', '2010s', 'agreement', 'criti-', 'space', 'learning', 'localities', 'end', 'orthodoxy', 'lation', 'losses', 'chapter', 'reviews', 'systems', 'approach', 'amount', 'teacher', 'institutions', 'century', 'crises', 'average', 'truth', 'turn', 'fall', 'principles', 'formu-', 'laws', 'bit', 'thinker', 'alienation', 'point', 'while', 'turbulence', 'understanding', 'accounts', 'metaphysics', 'pessimist', 'downs', 'mechanisms', 'unevenness', 'passages', 'container', 'appraisal', 'centuries', 'booms', 'stage', 'gdp', 'grounds', 'decreases', 'thing', 'references', 'say', 'subjectivity', 'conclusion', 'pessimism', 'imbalances', 'variables', 'picture', 'capital-', 'ups', 'accumulation', 'aspect', 'journey', 'curriculum', 'economists', 'processes', 'causes', 'approaches', 'self', 'story', 'winners', 'medium', 'viewpoint', 'movement', 'education', 'handbook', 'explanations', 'clarifies', 'gravitation', '1820s', 'world', 'contentions', 'ering', 'happening', 'phd', 'macrohistory', 'discussions', 'event', 'methodology', 'waves', 'difference', 'disorder', 'whole', 'profits', 'tactics', 'conclusions', 'rises', '1970s', 'dependency', 'philosophy', 'being', 'gain', 'book', 'articles', 'society', 'demi', 'consciousness', 'differences', 'mode', 'gravitates', 'problematic', 'ism', 'university', 'thesis', 'realities', 'author(s', 'contrast', 'lot', 'number', 'purpose', 'ables', 'review', 'step', 'cal', 'student', 'stan-', 'health', 'attempt', 'incomes', 'measurability', 'implication', 'mapping', 'need', 'rise', 'matter', 'interpretation', 'regularity', 'scope', 'thinking', 'eman-', 'characteristics', 'productivity', 'mind', 'constructs', 'data', 'difficulties', 'set', 'circle', 'work', 'foundation', 'homepage', 'living', 'reproduction', 'develop-', 'turning', 'change', 'access', 'question', 'decline', 'm.e.sharpe', 'politico', 'constraints', 'observations', 'reasons', 'strength', 'reading', 'discussion', 'causation', 'improvements', 'utilization', 'poten-', 'convergence', 'forms', 'dominance', 'article', 'objective', 'pat-', 'outcomes', 'meaning', 'half', 'investments', 'tendencies', 'argument', 'variety', 'ways', 'edifice', 'models', 'method-', 'turmoil', 'regularities', 'realist', 'frequencies', 're', 'post', 'transformation', 'response', 'sustainability', 'upswing', 'trend', 'orthodox', 'part', 'instance', 'nature', 'future', 'financialization', 'origin', '%', 'criticism', 'advice', 'i', 'tenets', 'claims', 'cre-', 'uncertainties', 'ments', 'ductivity', 'deviations', 'meanderings', 'conjunctions', 'bargaining', 'times', 'pathways', 'techniques', 'claim', 'talists', 'analyti-', 'possibility', 'changes', 'ology', 'studies', 'gaze', 'patterns', 'orientation', 'struggle', 'constellation', 'memorable', 'curricu-', 'connections', 'debates', 'nations', 'profitability', 'image', 'basis', 'effects', 'levels', 'undertaking', 'recoveries', 'scape', 'pro-', 'example', 'conceptions', 'reliance', 'war', 'welfare', 'conditions', 'capitalists', 'lum', 'b', 'ethico-', 'pattern', 'wave', 'consumers', 'anthropology', 'spite', 'circumstances', 'year', 'decades', 'cipation', 'controversies', 'break-', 'struggles', 'topics', 'modelling', 'homeland', 'assumptions', 'versa', 'discourse', 'responses', 'writing', 'outcome', 'structures', 'limits', 'states', 'idea', 'mathematics', 'impact', 'periods', 'sorts', 'tacit', 'taxes', 'capi-', 'view', 'requirements', 'origins', 'a', 'regions', 'limit', 'developments', 'entrepreneurs', 'success', 'advantages', 'form', 'acceleration', 'chimera', 'standards', 'stories', 'intensity', 'assumption', 'vision', 'vice', 'behaviour', 'capit-', 'position', 'syklit', 'share', 'conflict', 'heterodoxy', 'metamodel', 'theorists', 'stand', 'source', 'degrees', 'alternative', 'case', 'ten-', 'land-', 'theories', 'distribution', 'strategy', 'per-', 'journal', 'project', 'avenue', 'metaphor', 'history', 'importance', 'worker', 'level', 'study', 'fashion', 'art', 'engagement', 'period', 'busts', 'others', 'relationships', 'capita', 'planetary', 'estimation', 'kinds', 'ation', 'points', 'iii', 'role', 'injection', 'views', 'concerns', 'ambition', 'ideas', 'individuals', 'contrary', 'modernity', 'concern', 'seeking', 'alternatives', 'intentions'}\n"
     ]
    }
   ],
   "source": [
    "nounsRemoved = wordsRemoved(filteredNouns, toLowerCase(clean(CapitatlismNouns)))\n",
    "print(nounsRemoved)"
   ]
  },
  {
   "cell_type": "code",
   "execution_count": 55,
   "id": "ff39fa72",
   "metadata": {
    "scrolled": true
   },
   "outputs": [
    {
     "name": "stdout",
     "output_type": "stream",
     "text": [
      "{'rules', 'development', 'path', 'class', 'forces', 'hand', 'globalization', 'economics', 'nationalism', 'value', 'policy', 'balance', 'peace', 'framework', 'labour', 'inflation', 'exchange', 'entry', 'rate', 'trade', 'crisis', 'surge', 'firms', 'employment', 'socialism', 'profit', '-', 'policies', 'capital', 'opinion', 'progress', 'capacity', 'run', 'account', 'markets', 'risk', 'regulations', 'centre', 'order', 'creation', 'system', 'prices', 'term', 'tendency', 'figure', 'population', 'metaphors', 'capitalism', 'goods', 'time', 'wage', 'utility', 'state', 'costs', 'economies', 'wages', 'consumer', 'way', 'advantage', 'problem', 'competition', 'growth', 'dichotomy', 'power', 'agency', 'process', 'demand', 'factor', 'workers', 'cost', 'freedom', 'savings', 'title', 'model', 'money', 'tradition', 'benefit', 'issue', 'methods', 'motive', 'nation', 'business', 'politics', 'globalizations', 'wars', 'terms', 'return', 'print', 'hypothesis', 'unemployment', 'supply', 'barriers', 'democracy', 'market', 'advance', 'economy', 'trading', 'standard', 'firm', 'analysis', 'powers', 'monopoly', 'production', 'income', 'price', 'theory', 'people', 'output', 'gold'}\n"
     ]
    }
   ],
   "source": [
    "JargonWords = filteredNouns.union(filteredVerbs)\n",
    "print(JargonWords)"
   ]
  },
  {
   "cell_type": "code",
   "execution_count": 56,
   "id": "fce8583d",
   "metadata": {},
   "outputs": [
    {
     "name": "stdout",
     "output_type": "stream",
     "text": [
      "107\n",
      "3\n",
      "109\n"
     ]
    }
   ],
   "source": [
    "print(len(filteredNouns))\n",
    "print(len(filteredVerbs))\n",
    "print(len(jargon))\n"
   ]
  },
  {
   "cell_type": "code",
   "execution_count": 57,
   "id": "c2f04894",
   "metadata": {},
   "outputs": [],
   "source": [
    "x = large_masker(\"Hello I'm a [MASK] model.\")"
   ]
  },
  {
   "cell_type": "code",
   "execution_count": 58,
   "id": "e2da2d31",
   "metadata": {},
   "outputs": [
    {
     "name": "stdout",
     "output_type": "stream",
     "text": [
      "[{'sequence': \"[CLS] hello i'm a fashion model. [SEP]\", 'score': 0.16184712946414948, 'token': 4827}, {'sequence': \"[CLS] hello i'm a cover model. [SEP]\", 'score': 0.10551388561725616, 'token': 3104}, {'sequence': \"[CLS] hello i'm a male model. [SEP]\", 'score': 0.08243890106678009, 'token': 3287}, {'sequence': \"[CLS] hello i'm a new model. [SEP]\", 'score': 0.0381552018225193, 'token': 2047}, {'sequence': \"[CLS] hello i'm a top model. [SEP]\", 'score': 0.037600647658109665, 'token': 2327}]\n"
     ]
    }
   ],
   "source": [
    "print(x)"
   ]
  },
  {
   "cell_type": "code",
   "execution_count": 59,
   "id": "eec737fa",
   "metadata": {},
   "outputs": [],
   "source": [
    "y = base_masker(\"Hello I'm a [MASK] model.\")"
   ]
  },
  {
   "cell_type": "code",
   "execution_count": 60,
   "id": "834c0267",
   "metadata": {},
   "outputs": [
    {
     "name": "stdout",
     "output_type": "stream",
     "text": [
      "[{'sequence': \"[CLS] Hello I'm a new model. [SEP]\", 'score': 0.09941332787275314, 'token': 1207}, {'sequence': \"[CLS] Hello I'm a fashion model. [SEP]\", 'score': 0.08853159099817276, 'token': 4633}, {'sequence': \"[CLS] Hello I'm a male model. [SEP]\", 'score': 0.053984664380550385, 'token': 2581}, {'sequence': \"[CLS] Hello I'm a professional model. [SEP]\", 'score': 0.04418348893523216, 'token': 1848}, {'sequence': \"[CLS] Hello I'm a former model. [SEP]\", 'score': 0.03014710545539856, 'token': 1393}]\n"
     ]
    }
   ],
   "source": [
    "print(y)"
   ]
  },
  {
   "cell_type": "code",
   "execution_count": 61,
   "id": "68248a56",
   "metadata": {},
   "outputs": [
    {
     "data": {
      "text/plain": [
       "['led\\n\\n\\nFull Terms & Conditions of access and use can be found at\\nhttps://www',\n",
       " 'tandfonline',\n",
       " 'com/action/journalInformation?journalCode=yjcr20\\n\\nJournal of Critical Realism\\n\\nISSN: 1476-7430 (Print) 1572-5138 (Online) Journal homepage: https://www',\n",
       " 'tandfonline',\n",
       " 'com/loi/yjcr20\\n\\nCapitalism: Competition, Conflict, Crisis\\n\\nHeikki Patomäki\\n\\nTo cite this article: Heikki Patomäki (2017) Capitalism: Competition, Conflict, Crisis, Journal of\\nCritical Realism, 16:5, 537-543, DOI: 10',\n",
       " '1080/14767430',\n",
       " '2017',\n",
       " '1332807\\n\\nTo link to this article:  https://doi',\n",
       " 'org/10',\n",
       " '1080/14767430',\n",
       " '2017',\n",
       " '1332807\\n\\n© 2017 The Author(s)',\n",
       " ' Published by Informa\\nUK Limited, trading as Taylor & Francis\\nGroup\\n\\nPublished online: 01 Jun 2017',\n",
       " '\\n\\nSubmit your article to this journal \\n\\nArticle views: 11052\\n\\nView related articles \\n\\nView Crossmark data\\n\\nCiting articles: 1 View citing articles \\n\\nhttps://www',\n",
       " 'tandfonline',\n",
       " 'com/action/journalInformation?journalCode=yjcr20\\nhttps://www',\n",
       " 'tandfonline',\n",
       " 'com/loi/yjcr20\\nhttps://www',\n",
       " 'tandfonline',\n",
       " 'com/action/showCitFormats?doi=10',\n",
       " '1080/14767430',\n",
       " '2017',\n",
       " '1332807\\nhttps://doi',\n",
       " 'org/10',\n",
       " '1080/14767430',\n",
       " '2017',\n",
       " '1332807\\nhttps://www',\n",
       " 'tandfonline',\n",
       " 'com/action/authorSubmission?journalCode=yjcr20&show=instructions\\nhttps://www',\n",
       " 'tandfonline',\n",
       " 'com/action/authorSubmission?journalCode=yjcr20&show=instructions\\nhttps://www',\n",
       " 'tandfonline',\n",
       " 'com/doi/mlt/10',\n",
       " '1080/14767430',\n",
       " '2017',\n",
       " '1332807\\nhttps://www',\n",
       " 'tandfonline',\n",
       " 'com/doi/mlt/10',\n",
       " '1080/14767430',\n",
       " '2017',\n",
       " '1332807\\nhttp://crossmark',\n",
       " 'crossref',\n",
       " 'org/dialog/?doi=10',\n",
       " '1080/14767430',\n",
       " '2017',\n",
       " '1332807&domain=pdf&date_stamp=2017-06-01\\nhttp://crossmark',\n",
       " 'crossref',\n",
       " 'org/dialog/?doi=10',\n",
       " '1080/14767430',\n",
       " '2017',\n",
       " '1332807&domain=pdf&date_stamp=2017-06-01\\nhttps://www',\n",
       " 'tandfonline',\n",
       " 'com/doi/citedby/10',\n",
       " '1080/14767430',\n",
       " '2017',\n",
       " '1332807#tabModule\\nhttps://www',\n",
       " 'tandfonline',\n",
       " 'com/doi/citedby/10',\n",
       " '1080/14767430',\n",
       " '2017',\n",
       " '1332807#tabModule\\n\\n\\ncannot be specified in advance, and which, as they put who they are and what they know at\\nrisk, offers up the possibility of transformation: not Religious Education as such, but, perhaps,\\nEducation Education',\n",
       " '\\n\\nWhere for Heidegger an engagement with art theory is really a case study in a broader\\nengagement with ‘the happening of truth’ (26), so too is Aldridge’s own engagement with\\nRE more universal than at first it seems: the possibility of transformation offered up by his\\nappraisal of RE is really a vision for the whole curriculum and even of education more\\nbroadly, and chimera-like, we glimpse ‘a shimmering constellation of teacher, student, curricu-\\nlum and subject matter’ (31)',\n",
       " '\\n\\nCertainly the book does attempt but one thing; a hermeneutic interpretation of RE',\n",
       " ' It is not\\nin the analytic tradition, and this may be an inherent concern for some because the discussion\\nis so discursive and the methodology explicitly journey-like; a set of continental meanderings\\nweaving pathways which overlap and circle around each other',\n",
       " ' But this re-mapping of a land-\\nscape that is all too familiar as ‘RE viewed from the university’ is refreshing',\n",
       " ' Like anthropology\\nturning its gaze on its homeland, what is familiar here is once more rendered strange and new',\n",
       " '\\n\\nHugo Whately\\nHaberdashers’ Monmouth School, Monmouth, UK\\n\\nhugo',\n",
       " 'whately@gmail',\n",
       " 'com\\n\\n© 2017 Informa UK Limited, trading as Taylor & Francis Group\\nhttps://doi',\n",
       " 'org/10',\n",
       " '1080/14767430',\n",
       " '2017',\n",
       " '1356111\\n\\nCapitalism: Competition, Conflict, Crisis, by Anwar Shaikh, Oxford, Oxford University\\nPress, 2016, 979 pp',\n",
       " ', £35',\n",
       " '99 (hardback), ISBN: 978-0199390632\\n\\nShaik’s Capitalism is a great book to which I will be returning time and time again',\n",
       " ' In its attempt\\nto achieve its objective – to provide a radical alternative framework for understanding modern\\neconomies – it provides a rich source of elaborate discussions on economic theory',\n",
       " ' Although\\nclassical political economy provides the book with its overall framework, it systematically\\ncovers both orthodox and post-Keynesian heterodox economic theory',\n",
       " ' Given the ambition\\nand scope of Shaikh’s book, my review is limited to describing and assessing the undertaking\\nas a whole',\n",
       " '\\n\\nAs the title of his book indicates, Shaikh’s ambition is to analyse and understand capitalism\\nas a particular system',\n",
       " ' Capitalism is driven by a powerful profit motive that regulates both\\nsupply and demand',\n",
       " ' In capitalism, many forces together generate recurring patterns trans-\\ncending historical and regional particularities: the profit motive being the most powerful of\\nthese forces',\n",
       " ' The intensity of competition in capitalism is independent of the number of\\nfirms in any given market',\n",
       " ' Real competition is turbulent and antagonistic, because profit-\\nseeking is expansionary and sets firms against each other',\n",
       " ' Again and again, market competition\\nturns out to be Darwinist',\n",
       " ' All seek profits, but many suffer losses; some barely surviving from\\nyear to year while others go bankrupt or out of business, or are bought by other firms',\n",
       " ' Winners\\nmay from time to time to make huge profits, especially during an upswing, and profitable\\nmarkets attract firms',\n",
       " ' There are barriers to entry, however',\n",
       " ' For those trying to overcome\\nthese barriers, competition is often war, involving ‘tactics’ and ‘strategy’',\n",
       " ' The whole is therefore\\nrelational, not atomistic',\n",
       " ' Each firm seeks to achieve relative strategic and tactical advantages',\n",
       " '\\n\\nJOURNAL OF CRITICAL REALISM 537\\n\\nmailto:hugo',\n",
       " 'whately@gmail',\n",
       " 'com\\nhttp://crossmark',\n",
       " 'crossref',\n",
       " 'org/dialog/?doi=10',\n",
       " '1080/14767430',\n",
       " '2017',\n",
       " '1356111&domain=pdf\\n\\n\\nShaikh’s understanding of competition is indicative of his general approach',\n",
       " ' Instead of\\nrelying on idealized conceptions and models – such as the model of ‘perfect competition’\\nin neoclassical economics – he explores the processes of a specific historical socio-economic\\nsystem, namely capitalism',\n",
       " ' Consider consumer behaviour',\n",
       " ' There is no need to assume utility\\nmaximizing or optimizing behaviour, or any other part of neoclassical metaphysics, in order\\nto explain the tendency of consumers to respond negatively to price rises and positively to\\nprice decreases',\n",
       " ' People’s incomes are constrained and that suffices for the general ten-\\ndency to arise',\n",
       " ' Yet a tendency does not dictate individual responses',\n",
       " ' Nor is the overall\\noutcome of price changes necessarily regular because other processes and mechanisms\\ncan intervene',\n",
       " '\\n\\nClassical concerns and new accounts of long waves\\n\\nA major aspect of Shaikh’s path-breaking project is his partial return to the classical tradition of:\\nAdam Smith (real Smith rather than the ideologicized image of him); David Ricardo; and Karl\\nMarx',\n",
       " ' The classical tradition forms the basis of a number of Shaikh’s theoretical ideas, which\\nare in turn grounded on systematic empirical evidence',\n",
       " ' Thus Shaikh maintains, for instance,\\nthat labour costs largely determine long-run relative prices',\n",
       " ' This empirically grounded claim\\ncomes close to the classical labour theory of value',\n",
       " ' Shaikh also frames the historical story of\\nhis book as a whole in terms of classical concern about the nature of world-historical develop-\\nments',\n",
       " ' On the one hand the ‘economic history of the developed capitalist world appears to be\\none of almost constant progress’',\n",
       " ' Standards of living rise, health, well-being and welfare\\nimprove',\n",
       " ' On the other hand, ‘everywhere there seems to be a characteristic unevenness:\\nacross localities, regions, and nations; and across time, in the form of booms, busts, and break-\\ndowns’ (3)',\n",
       " ' Order emerges from turbulent disorder',\n",
       " ' Unevenness and disorder evolve from\\napparently even and orderly circumstances',\n",
       " ' Constant crises, and recoveries from them, are\\npart of the overall process',\n",
       " '\\n\\nA key question for Shaikh is: how has the capitalist system – which regularly changes its\\ninstitutions, regulations and political structures –managed to retain its recurrent economic pat-\\nterns? I have puzzled over this question for nearly two decades, since the Asian crisis of 1997–\\n98, and since I first read of the tendency in capitalist market economy towards financialization,\\nwhich then gives rise to a recurring pattern of booms and busts (see Kindleberger 1978; Minsky\\n1982; Soros 1998)',\n",
       " ' A bit later, I linked this problematic to the idea of long waves of economic\\ndevelopment, via Korpinen’s (1981) excellent but underrated PhD-thesis Crises and Long Cycles\\n(underrated because it is inaccessible to non-Finnish speakers)',\n",
       " '\\n\\nSimilarly, Shaikh argues that ‘the history of capitalism over the centuries reveals recurring\\npatterns of long booms and busts’ (726)',\n",
       " ' In Figure 16',\n",
       " '1, he displays what he calls the ‘US\\nand UK golden waves’, or long waves of national price levels measured in terms of gold',\n",
       " ' His\\nfigure seems to indicate an upward long wave from 1980 to 2007',\n",
       " ' I disagree',\n",
       " ' I have previously\\nexpressed the opinion that there is no upward turning point in the early 1980s (Patomäki 2008,\\nch',\n",
       " '5)',\n",
       " ' Our differences point to the difficulties of reading macrohistory, that is, of telling plausible\\nstories about world history',\n",
       " '\\n\\nIn absolute and global terms, the period from the early 1970s to 2016 has been a period of\\nenormous economic growth',\n",
       " ' The world population has doubled and its per capita income has\\ngrown by a factor somewhere between 2',\n",
       " '0 and 3',\n",
       " '0 (the World Bank world GDP per capita in\\ncurrent US$ figure indicates a much higher rate of growth, whereas in my estimation, in real\\nwelfare-increasing terms, the true factor is significantly less than two)',\n",
       " ' During this period the\\naverage per capita growth rate in current US$ has gradually but quite steadily declined from\\n3% pa to 1% pa, and in the OECD world, even more drastically to close to zero',\n",
       " '\\n\\n538 REVIEWS\\n\\n\\n\\nIn Shaikh’s Figure 16',\n",
       " '1, he assumes price-level deviations from a fitted cubic trend, where\\nprice-levels are measured in terms of gold (the price of which varies for all kinds of reasons,\\nnot least in response to turbulence in the financial markets)',\n",
       " ' He must then take many a step\\nof theory-laden interpretation to move from this assumption to his conclusion that there\\nwas an extended upward long wave in the world economy in 1983–2007',\n",
       " ' Just as plausibly,\\nthis wave may merely reflect changes in the price of gold, which would be consistent with\\nthe hypothesis of rising uncertainties due to financialization',\n",
       " '\\n\\nGiven our two contrasting explanations of the underlying causes of the upward trend in prices\\nin 1983–2007, we might ask about the nature of explanatory models',\n",
       " ' As Lawson (1997, 204–13)\\nclarifies, it is true that we can at times identify empirical demi-regularities',\n",
       " ' These are not only\\ncontrastive – for example a demi-regularity may rely on a contrast between different periods\\n– but also metaphorical',\n",
       " ' Shaikh’s methodological stand does not allow him to acknowledge\\nthe role of metaphors in discussions such as those concerning economic ‘waves’ in the world\\neconomy [about the metaphorical basis of our explanatory models, see Harré (1970); and\\nabout the dependency of our abstract thinking on metaphors, see Lakoff and Johnson (1999)]',\n",
       " '\\n\\nDoes politics really matter in capitalism?\\n\\nAt its best, Shaikh’s Capitalism displays economic realities as socio-historical and at least poten-\\ntially political',\n",
       " ' The struggle between capital and labour is a case in point',\n",
       " ' Shaikh criticizes both\\nthe neoclassical orthodoxy and post-Keynesian heterodoxy: ‘A striking implication of both\\northodox and heterodox approaches is that workers have no say in their own standard of\\nliving’ (42)',\n",
       " ' In these theories, the overall wage-level is strictly determined by: labour pro-\\nductivity; theoretically construed requirements of full employment; and/or monopoly mark-\\nups',\n",
       " ' Neoclassical economists assume further that individual wages are closely related to a\\nworker’s marginal productivity, whereas many post-Keynesians have little to say about the\\nrole and position of individuals in labour markets',\n",
       " ' Against these theories – but in some ways\\nconcurring with Keynes himself – Shaikh stresses that labour bargaining and struggles\\nmatter, and that they are dependent on socio-historic conditions and institutions',\n",
       " ' One of\\nShaikh’s chief points is that both the amount of available labour and technical change (invest-\\nments) respond to the effects of labour struggles on the real wage and wage share',\n",
       " '\\n\\nConsequently, Shaikh explores connections between labour strength and other variables\\nsuch as employment, business savings, investments and inflation',\n",
       " ' Ultimately, the emerging\\npicture is not only fairly complex but also more deterministic than what one would expect\\non the basis of Shaikh’s criticism of neoclassical and post-Keynesian theories',\n",
       " ' For instance,\\nan acceleration in aggregate demand, perhaps due to deliberate policy by a Keynesian state,\\nwould decrease unemployment and increase the wage share',\n",
       " ' However, the effects of extra\\ndemand injection might well be just temporary (although possibly affecting the process of\\naccumulation); while ‘the gravitation of actual capacity utilization around its normal rate\\nimplies that the actual rate of profit gravitates around its normal rate’ (672)',\n",
       " '\\n\\nShaikh continues by pointing out that the (Keynesian) demand-led Verdoorn’s Law may\\ngenerate a virtuous circle between output and productivity growth for a while',\n",
       " ' Yet, in the\\nlong run, the classical idea holds according to which the subsequent fall in profitability will\\neventually undermine the effects of increased demand',\n",
       " ' In policy terms, this is a rather orthodox\\nposition',\n",
       " ' Moreover, no matter what policy is chosen and what the rate of accumulation is, there\\nwill always be involuntary unemployment (Marx’s ‘reserve army’ of labour)',\n",
       " ' In the end, despite\\nhis explanations to the contrary, Shaikh’s normal rate of unemployment does not sound dras-\\ntically different from the neoclassical ‘natural’ rate of unemployment, or NAIRU (non-accelerat-\\ning inflation rate of unemployment) (721–3)',\n",
       " '\\n\\nJOURNAL OF CRITICAL REALISM 539\\n\\n\\n\\nShaikh’s partial return to the ideas of classical political economy can be read in at least two\\ndifferent ways',\n",
       " ' In the first reading, Shaikh is a radical Marxian thinker who argues that capit-\\nalism is a system in which certain laws prevail',\n",
       " ' The balance of power between labour and\\ncapital, and economic policy, co-determine many important outcomes',\n",
       " ' However, as long as\\nthe system remains capitalist, the degrees of freedom for agency are rather limited',\n",
       " ' Struggles\\ncan achieve at best only small improvements and the space for state policy is constrained in\\nall kinds of ways',\n",
       " ' The main idea would be to change the system as a whole, with all its deep\\nstructures',\n",
       " '\\n\\nIn the second reading, Shaikh is a post-Marxian thinker who has reached a rather pessimist\\nconclusion',\n",
       " ' There is indeed historical capitalism with its laws, but there is no alternative',\n",
       " ' We\\nhave to live in capitalism and accept its limits and constraints as long as we can see into the\\nfuture',\n",
       " ' Hereby a theoretical understanding about how the system works becomes disempow-\\nering',\n",
       " ' In the limit (to use ironically a mathematical metaphor), the post-Marxian position may\\neven approach the neoclassical position in its policy advice',\n",
       " ' This pessimism seems to follow\\nalso from the methodological approach of Capitalism',\n",
       " ' A large part of the book relies on stan-\\ndard techniques of statistical and mathematical modelling, turning more and more variables\\nendogenic (i',\n",
       " 'e',\n",
       " ' internal to the system)',\n",
       " ' The system as a whole becomes ever more deterministic\\nas more and more variables are ‘explained’ in these terms',\n",
       " '\\n\\nI am not saying or implying that there are no major differences between Shaikh and the\\northodoxy',\n",
       " ' At all levels there are numerous deep-seated and far-reaching differences\\nbetween the two',\n",
       " ' Yet, there are also theoretical and metatheoretical points of convergence',\n",
       " '\\nFor instance, Shaikh criticizes the Chartalist theory of money from a fairly orthodox position:\\n\\nBut we know that states arise after money, are never neutral and rarely benevolent and that\\ntaxes are resisted at every stage (Mehrling 2000, 402) – not just in America and Southern\\nNigeria in response to their colonial states but also within every nation in response to its\\nown state',\n",
       " ' (687)\\n\\nThis argument seems to confuse the historical origins of money and its creation by emerging\\nsovereign states within the international system in the modern world',\n",
       " ' The historical origin of\\nmoney – like our reflective consciousness and the development of metaphorical thinking –\\nis closely tied to the origins of writing and mathematics (Jaynes 2000)',\n",
       " ' There is no space to\\ndevelop this argument here',\n",
       " ' Nor is it my purpose to defend the exaggerated claims of\\nModern Monetary Theory, as developed for example by Wray (2012)',\n",
       " ' The powers of money-cre-\\nation are, I think, nonetheless important',\n",
       " ' The point is simply to give another example of how\\nShaikh’s contentions undermine ideas about possible alternative policies developed by post-\\nKeynesian theorists; and how, at least at times, a tacit, even if only partial, convergence\\nemerges between Shaikh and the neoclassical orthodoxy',\n",
       " '\\n\\nOn the methodology of Shaikh’s Capitalism: a critical realist view\\n\\nKey controversies in economic theory consists of endless debates about whether A causes B\\nor B causes A; or whether A, or B, or both, are ‘endogenous’ (determined within the specified\\nmathematical model) or ‘exogenous’ (determined outside the model)',\n",
       " ' For instance, is money\\nendogenous or exogenous? Do savings determine investments or investments savings? For\\nthe sorts of mathematical methods that economists continually assume to be generally\\napplicable, including Shaikh, the world must consist of deterministic or stochastic closed\\nsystems',\n",
       " '\\n\\nA closed system is one in which an event regularity occurs: whenever A, then B, under\\nconditions {x, y, z}',\n",
       " ' But economic theorists do not agree whether A causes B or vice versa,\\nor about how to define A and B',\n",
       " ' Standard econometric techniques too presuppose stable\\n\\n540 REVIEWS\\n\\n\\n\\nfrequencies (and precise measurability), and thus closed systems',\n",
       " ' Econometrics is about\\nattempting to determine probabilistic event conjunctions',\n",
       " ' A practical problem for these\\nstudies is that the estimated relationships quickly tend to break down',\n",
       " ' A deeper problem\\nis that the tendency to endogenize ever more variables leaves less and less space for\\nagency, freedom, history or politics',\n",
       " ' It is thus not surprising that there is nothing in\\nShaikh’s Capitalism about real alternatives, about ecological sustainability, democracy, eman-\\ncipation learning, overcoming alienation or socialism',\n",
       " ' Shaikh repeatedly downplays Post-\\nKeynesian alternatives',\n",
       " '\\n\\nThus the methodological assumptions of Shaikh’s Capitalism serve to undermine its ethico-\\npolitical intentions',\n",
       " ' The same assumptions also leave his magnificent edifice on somewhat\\nshaky grounds',\n",
       " ' In open systems there are only few, if any, enduring event regularities (and\\neven those few are liable to change)',\n",
       " ' In some ways Shaikh tries to be a scientific realist,\\nseeing causal forces and mechanisms capable of generating tendencies that may or may\\nnot result in particular outcomes in open systems',\n",
       " ' Moreover, these forces and mechanisms\\ncan and frequently do change',\n",
       " '\\n\\nTo reiterate, I am also in agreement with Shaikh about the importance of recurring patterns',\n",
       " '\\nThis is a real issue that must be taken into account by any serious theory of political economy',\n",
       " '\\nShaikh also acknowledges that institutions, regulations and political structures change and that\\nthose changes can make a difference',\n",
       " ' The forces, mechanisms and tendencies that we are\\nstudying in political economy are dependent on institutions, regulations, political structures\\n– and not only on them, but also on historically constituted forms of subjectivity and\\nagency',\n",
       " ' There is also a lot to be learnt from Shaikh’s sophisticated and pluralistic discussions\\non economic theory and, to a point, from his historical discussions',\n",
       " '\\n\\nThroughout the book, however, Shaikh resorts to forms of mathematical modelling and\\neconometric estimation that are only applicable to closed systems',\n",
       " ' He wants to cover the\\nmain topics of both neoclassical and post-Keynesian economics, endogenizing ever more vari-\\nables into his metamodel, or extensive theoretical system as a whole (except capital-labour\\nstruggles that he holds back as exogenous)',\n",
       " ' In doing so, his politico-economic thinking\\nbecomes increasingly deterministic',\n",
       " ' Shaikh’s project would benefit from rethinking social\\nontology and causation in open systems',\n",
       " '\\n\\nConclusions: what is capitalism?\\n\\nWhat is curious about Shaikh’s Capitalism is that it does not define, or even characterize, capit-\\nalism in any systematic fashion',\n",
       " ' It is well known that Marx did not use the term ‘capitalism’,\\nalthough he theorized capital, talked about capitalists (as a social class) and analysed the capi-\\ntalist mode of production',\n",
       " '\\n\\nThe term ‘capitalism’ became increasingly common in the late nineteenth century as a criti-\\ncal term, describing a society or social system characterized by the dominance of capitalists and\\ntheir ideas',\n",
       " ' Werner Sombert’s 1902 book Modern Capitalism established this meaning of the\\nterm',\n",
       " ' Joseph Schumpeter later insisted upon distinguishing between entrepreneurs and capi-\\ntalists, in his 1942 classic Capitalism, Socialism and Democracy, in which he anticipated capital-\\nism’s gradual decline',\n",
       " '\\n\\nIn passages where Shaikh discusses long-term economic developments from a global per-\\nspective, his data covers time from the 1600s onwards',\n",
       " ' Mostly, Shaikh focusses on the era of\\nmodern economic growth that started in Britain in the 1820s, after the Napoleonic wars and\\nfollowing the Industrial Revolution',\n",
       " ' Quite methodically, however, Shaikh avoids mentioning\\nsocial and political theorists that have made a lasting impact on our understanding of the\\nnature and rise of capitalist market society',\n",
       " '\\n\\nJOURNAL OF CRITICAL REALISM 541\\n\\n\\n\\nOne of the most important and perceptive of these theorists has been Karl Polanyi',\n",
       " ' In The\\nGreat Transformation, originally published in 1944, Polanyi argued that the Economic Man and\\nself-adjusting markets are neither natural nor universal',\n",
       " ' Rather, they are relatively recent\\nsocio-historical constructs',\n",
       " ' The rise of: (i) the calculative gain-orientation; (ii) the modern\\nmarket economy and (iii) the modern liberal state are essentially connected',\n",
       " ' Prior to the\\ngreat transformation in modern Europe, markets existed as an auxiliary avenue for the\\nexchange of goods that were otherwise not obtainable',\n",
       " ' The market society was born out\\nof the changes that emerged first in Britain',\n",
       " ' Following the great transformation and\\nrelated Industrial Revolution in the early nineteenth century – in Polanyi’s memorable formu-\\nlation – ‘the old world was swept away in one indomitable surge toward a planetary\\neconomy’',\n",
       " '\\n\\nTherefore Polanyi placed the rules governing the world economy at the centre of his analyti-\\ncal framework',\n",
       " ' This framework is also capable of illuminating the causes of our current turmoil\\nand disorder',\n",
       " ' In the late 2010s, it is again becoming increasingly evident that the utopian liberal\\nvision of self-regulating markets leads – not to peace – but to intensified conflict',\n",
       " ' From a Pola-\\nnyian viewpoint, the world seems to be heading towards even more dangerous circumstances\\nin the near future (Patomäki 2014)',\n",
       " '\\n\\nShaikh is critical of neoliberal globalization',\n",
       " ' He argues against the Ricardian theory of free\\ntrade in terms of his theory of real competition, which implies that success comes with absolute\\ncost advantage at the level of firms and may result in systematic and persistent imbalances in\\nthe world economy (Chapter 11)',\n",
       " ' And yet, in spite of his insightful observations, Shaikh seems\\ncommitted, at least for the most part, to methodological nationalism',\n",
       " ' Typically, he assumes, in\\nhis models and empirical analysis, that the nation state is the container of relevant processes',\n",
       " '\\nHe also seems committed to reproducing the standard disciplinary inside/outside dichotomy of\\neconomics',\n",
       " ' These tenets are closely linked to his de facto reliance on closed-systems method-\\nology, at least for the large part of his analysis',\n",
       " '\\n\\nAlthough Shaik’s book is a useful handbook covering an ambitious variety of topics, most of\\nwhich I have not been able to consider in this review, my overall conclusion is nonetheless that\\nCapitalism does not provide a new foundation for economic theory',\n",
       " ' That would require proble-\\nmatizing and reconstructing the methodology and ontology of political economy at a deeper\\nlevel',\n",
       " ' Shaikh remains committed to about half of Bhaskar’s (2016, 196) eight characteristics of\\nthe ‘discourse of modernity’',\n",
       " ' More freedom is needed',\n",
       " '\\n\\nReferences\\n\\nBhaskar, Roy',\n",
       " ' 2016',\n",
       " ' Enlightened Common Sense',\n",
       " ' The Philosophy of Critical Realism, edited by M',\n",
       " ' Hartwig',\n",
       " ' London:\\nRoutledge',\n",
       " '\\n\\nHarré, Rom',\n",
       " ' 1970',\n",
       " ' Principles of Scientific Thinking',\n",
       " ' London: MacMillan',\n",
       " '\\nJaynes, Julian',\n",
       " ' 2000',\n",
       " ' The Origin of Consciousness in the Breakdown of the Bicameral Mind',\n",
       " ' Boston, MA: Houghton\\n\\nMifflin',\n",
       " '\\nKindleberger, Charles',\n",
       " ' 1978',\n",
       " ' Manias, Panics, and Crashes: A History of Financial Crises',\n",
       " ' London: MacMillan',\n",
       " '\\nKorpinen, Pekka',\n",
       " ' 1981',\n",
       " ' Kriisit ja pitkät syklit [Crises and Long Cycles]',\n",
       " ' Helsinki: TTT',\n",
       " '\\nLakoff, George, and Mark Johnson',\n",
       " ' 1999',\n",
       " ' Philosophy in the Flesh',\n",
       " ' The Embodied Mind and Its Challenge to Western\\n\\nThought',\n",
       " ' New York, NY: Basic Books',\n",
       " '\\nLawson, Tony',\n",
       " ' 1997',\n",
       " ' Economics and Reality',\n",
       " ' London: Routledge',\n",
       " '\\nMinsky, Hyman',\n",
       " ' 1982',\n",
       " ' Can ‘It’ Happen Again? Armonk, NY: M',\n",
       " 'E',\n",
       " 'Sharpe',\n",
       " '\\nPatomäki, Heikki',\n",
       " ' 2008',\n",
       " ' The Political Economy of Global Security',\n",
       " ' War, Future Crises and Changes in Global\\n\\nGovernance',\n",
       " ' London: Routledge',\n",
       " '\\nPatomäki, Heikki',\n",
       " ' 2014',\n",
       " ' “On the Dialectics of Global Governance in the 21st Century: A Polanyian Double\\n\\nMovement?” Globalizations 11 (5): 751–768',\n",
       " '\\nSoros, George',\n",
       " ' 1998',\n",
       " ' The Crisis of Global Capitalism',\n",
       " ' Open Society Endangered',\n",
       " ' New York, NY: Public Affairs',\n",
       " '\\n\\n542 REVIEWS\\n\\n\\n\\nWray, L',\n",
       " ' Randall',\n",
       " ' 2012',\n",
       " ' Modern Money Theory',\n",
       " ' A Primer on Macroeconomics for Sovereign Monetary Systems',\n",
       " '\\nLondon: Palgrave MacMillan',\n",
       " '\\n\\nHeikki Patomäki\\nProfessor of World Politics (University of Helsinki), Helsinki, Finland\\n\\nheikki',\n",
       " 'patomaki@helsinki',\n",
       " 'fi\\n\\n© 2017 The Author(s)',\n",
       " ' Published by Informa UK Limited, trading as Taylor & Francis Group',\n",
       " '\\nThis is an Open Access article distributed under the terms of the Creative Commons Attribution-NonCommercial-\\nNoDerivatives License (http://creativecommons',\n",
       " 'org/licenses/by-nc-nd/4',\n",
       " '0/), which permits non-commercial re-\\n\\nuse, distribution, and reproduction in any medium, provided the original work is properly cited, and is not altered,\\ntransformed, or built upon in any way',\n",
       " '\\n\\nhttps://doi',\n",
       " 'org/10',\n",
       " '1080/14767430',\n",
       " '2017',\n",
       " '1332807\\n\\nJOURNAL OF CRITICAL REALISM 543\\n\\nmailto:heikki',\n",
       " 'patomaki@helsinki',\n",
       " 'fi\\nhttp://creativecommons',\n",
       " 'org/licenses/by-nc-nd/4',\n",
       " '0/\\nhttp://crossmark',\n",
       " 'crossref',\n",
       " 'org/dialog/?doi=10',\n",
       " '1080/14767430',\n",
       " '2017',\n",
       " '1332807&domain=pdf\\n\\n']"
      ]
     },
     "execution_count": 61,
     "metadata": {},
     "output_type": "execute_result"
    }
   ],
   "source": [
    "Capitalism1_list = list(Capitalism1.split(\".\"))\n",
    "Capitalism1_list\n"
   ]
  },
  {
   "cell_type": "code",
   "execution_count": 80,
   "id": "067fd964",
   "metadata": {},
   "outputs": [
    {
     "data": {
      "text/plain": [
       "' In capitalism, many forces together generate recurring patterns trans-\\ncending historical and regional particularities: the profit motive being the most powerful of\\nthese forces'"
      ]
     },
     "execution_count": 80,
     "metadata": {},
     "output_type": "execute_result"
    }
   ],
   "source": [
    "Capitalism1_list[80]"
   ]
  },
  {
   "cell_type": "code",
   "execution_count": 62,
   "id": "36ca5a1b",
   "metadata": {},
   "outputs": [
    {
     "data": {
      "text/plain": [
       "'1332807&domain=pdf&date_stamp=2017-06-01\\nhttp://crossmark'"
      ]
     },
     "execution_count": 62,
     "metadata": {},
     "output_type": "execute_result"
    }
   ],
   "source": [
    "Capitalism1_list[45]"
   ]
  },
  {
   "cell_type": "code",
   "execution_count": 63,
   "id": "c6e35a7a",
   "metadata": {
    "scrolled": true
   },
   "outputs": [
    {
     "name": "stdout",
     "output_type": "stream",
     "text": [
      "{'run': 'Noun', 'monopoly': 'Verb', 'benefit': 'Verb', 'path': 'Noun', 'class': 'Noun', 'forces': 'Noun', 'nationalism': 'Noun', 'framework': 'Noun', 'inflation': 'Noun', 'exchange': 'Noun', 'trade': 'Noun', 'profit': 'Noun', 'capital': 'Noun', 'opinion': 'Noun', 'account': 'Noun', 'risk': 'Noun', 'regulations': 'Noun', 'centre': 'Noun', 'order': 'Noun', 'creation': 'Noun', 'system': 'Noun', 'term': 'Noun', 'tendency': 'Noun', 'figure': 'Noun', 'wage': 'Noun', 'utility': 'Noun', 'economies': 'Noun', 'wages': 'Noun', 'consumer': 'Noun', 'way': 'Noun', 'advantage': 'Noun', 'problem': 'Noun', 'growth': 'Noun', 'dichotomy': 'Noun', 'power': 'Noun', 'process': 'Noun', 'demand': 'Noun', 'factor': 'Noun', 'workers': 'Noun', 'cost': 'Noun', 'savings': 'Noun', 'money': 'Noun', 'tradition': 'Noun', 'business': 'Noun', 'globalizations': 'Noun', 'print': 'Noun', 'unemployment': 'Noun', 'advance': 'Noun', 'economy': 'Noun', 'price': 'Noun', 'theory': 'Noun', 'people': 'Noun', 'output': 'Noun', 'rules': 'Noun', 'development': 'Noun', 'hand': 'Noun', 'globalization': 'Noun', 'economics': 'Noun', 'value': 'Noun', 'policy': 'Noun', 'balance': 'Noun', 'peace': 'Noun', 'labour': 'Noun', 'entry': 'Noun', 'rate': 'Noun', 'crisis': 'Noun', 'surge': 'Noun', 'firms': 'Noun', 'employment': 'Noun', 'socialism': 'Noun', '-': 'Noun', 'policies': 'Noun', 'progress': 'Noun', 'capacity': 'Noun', 'markets': 'Noun', 'prices': 'Noun', 'population': 'Noun', 'metaphors': 'Noun', 'capitalism': 'Noun', 'goods': 'Noun', 'time': 'Noun', 'state': 'Noun', 'costs': 'Noun', 'competition': 'Noun', 'agency': 'Noun', 'freedom': 'Noun', 'title': 'Noun', 'model': 'Noun', 'issue': 'Noun', 'methods': 'Noun', 'motive': 'Noun', 'nation': 'Noun', 'politics': 'Noun', 'wars': 'Noun', 'terms': 'Noun', 'return': 'Noun', 'hypothesis': 'Noun', 'supply': 'Noun', 'barriers': 'Noun', 'democracy': 'Noun', 'market': 'Noun', 'trading': 'Noun', 'standard': 'Noun', 'firm': 'Noun', 'analysis': 'Noun', 'powers': 'Noun', 'production': 'Noun', 'income': 'Noun', 'gold': 'Noun'}\n"
     ]
    }
   ],
   "source": [
    "print(jargon)"
   ]
  },
  {
   "cell_type": "code",
   "execution_count": 68,
   "id": "20210f43",
   "metadata": {},
   "outputs": [],
   "source": [
    "del jargon['-']"
   ]
  },
  {
   "cell_type": "code",
   "execution_count": 70,
   "id": "1e095cc8",
   "metadata": {},
   "outputs": [
    {
     "name": "stdout",
     "output_type": "stream",
     "text": [
      "{'run': 'Noun', 'monopoly': 'Verb', 'benefit': 'Verb', 'path': 'Noun', 'class': 'Noun', 'forces': 'Noun', 'nationalism': 'Noun', 'framework': 'Noun', 'inflation': 'Noun', 'exchange': 'Noun', 'trade': 'Noun', 'profit': 'Noun', 'capital': 'Noun', 'opinion': 'Noun', 'account': 'Noun', 'risk': 'Noun', 'regulations': 'Noun', 'centre': 'Noun', 'order': 'Noun', 'creation': 'Noun', 'system': 'Noun', 'term': 'Noun', 'tendency': 'Noun', 'figure': 'Noun', 'wage': 'Noun', 'utility': 'Noun', 'economies': 'Noun', 'wages': 'Noun', 'consumer': 'Noun', 'way': 'Noun', 'advantage': 'Noun', 'problem': 'Noun', 'growth': 'Noun', 'dichotomy': 'Noun', 'power': 'Noun', 'process': 'Noun', 'demand': 'Noun', 'factor': 'Noun', 'workers': 'Noun', 'cost': 'Noun', 'savings': 'Noun', 'money': 'Noun', 'tradition': 'Noun', 'business': 'Noun', 'globalizations': 'Noun', 'print': 'Noun', 'unemployment': 'Noun', 'advance': 'Noun', 'economy': 'Noun', 'price': 'Noun', 'theory': 'Noun', 'people': 'Noun', 'output': 'Noun', 'rules': 'Noun', 'development': 'Noun', 'hand': 'Noun', 'globalization': 'Noun', 'economics': 'Noun', 'value': 'Noun', 'policy': 'Noun', 'balance': 'Noun', 'peace': 'Noun', 'labour': 'Noun', 'entry': 'Noun', 'rate': 'Noun', 'crisis': 'Noun', 'surge': 'Noun', 'firms': 'Noun', 'employment': 'Noun', 'socialism': 'Noun', 'policies': 'Noun', 'progress': 'Noun', 'capacity': 'Noun', 'markets': 'Noun', 'prices': 'Noun', 'population': 'Noun', 'metaphors': 'Noun', 'capitalism': 'Noun', 'goods': 'Noun', 'time': 'Noun', 'state': 'Noun', 'costs': 'Noun', 'competition': 'Noun', 'agency': 'Noun', 'freedom': 'Noun', 'title': 'Noun', 'model': 'Noun', 'issue': 'Noun', 'methods': 'Noun', 'motive': 'Noun', 'nation': 'Noun', 'politics': 'Noun', 'wars': 'Noun', 'terms': 'Noun', 'return': 'Noun', 'hypothesis': 'Noun', 'supply': 'Noun', 'barriers': 'Noun', 'democracy': 'Noun', 'market': 'Noun', 'trading': 'Noun', 'standard': 'Noun', 'firm': 'Noun', 'analysis': 'Noun', 'powers': 'Noun', 'production': 'Noun', 'income': 'Noun', 'gold': 'Noun'}\n"
     ]
    }
   ],
   "source": [
    "print(jargon)"
   ]
  },
  {
   "cell_type": "code",
   "execution_count": 89,
   "id": "c3a7f289",
   "metadata": {
    "scrolled": false
   },
   "outputs": [],
   "source": [
    "indexs = []\n",
    "for sentence in Capitalism1_list:\n",
    "    for word in sentence.split(\" \"):\n",
    "        if word in jargon:\n",
    "            #print(word)\n",
    "            indexs.append(Capitalism1_list.index(sentence))\n",
    "         \n",
    "       # index = animals.index('dog')"
   ]
  },
  {
   "cell_type": "code",
   "execution_count": 90,
   "id": "04adbf16",
   "metadata": {
    "scrolled": true
   },
   "outputs": [
    {
     "name": "stdout",
     "output_type": "stream",
     "text": [
      "[12, 61, 68, 74, 74, 75, 75, 76, 76, 78, 78, 79, 79, 79, 80, 80, 80, 80, 81, 81, 81, 82, 82, 83, 84, 85, 85, 85, 86, 87, 89, 97, 98, 98, 98, 99, 100, 100, 102, 103, 104, 104, 105, 106, 106, 106, 107, 107, 107, 108, 109, 114, 115, 115, 115, 115, 115, 115, 117, 119, 119, 119, 122, 125, 126, 126, 126, 128, 128, 128, 129, 129, 131, 131, 131, 132, 133, 133, 137, 138, 139, 139, 140, 140, 141, 141, 142, 142, 142, 143, 144, 144, 144, 144, 145, 145, 145, 147, 147, 147, 148, 148, 148, 148, 149, 149, 150, 151, 152, 152, 152, 153, 153, 153, 153, 153, 154, 154, 155, 156, 156, 156, 157, 157, 157, 158, 158, 159, 161, 162, 163, 164, 169, 169, 173, 173, 173, 173, 174, 174, 174, 175, 178, 179, 180, 181, 181, 182, 186, 187, 187, 188, 193, 194, 196, 196, 196, 196, 197, 198, 199, 201, 203, 205, 205, 206, 206, 209, 210, 210, 211, 213, 215, 215, 216, 216, 217, 218, 219, 219, 219, 219, 220, 221, 221, 223, 224, 224, 224, 224, 224, 224, 225, 226, 226, 227, 227, 228, 229, 230, 232, 291, 292, 294]\n"
     ]
    }
   ],
   "source": [
    "print(indexs)"
   ]
  },
  {
   "cell_type": "code",
   "execution_count": null,
   "id": "f257739b",
   "metadata": {},
   "outputs": [],
   "source": [
    "for key in jargon:\n",
    "    if"
   ]
  },
  {
   "cell_type": "code",
   "execution_count": 92,
   "id": "d7096ce0",
   "metadata": {
    "scrolled": true
   },
   "outputs": [
    {
     "data": {
      "text/plain": [
       "' He argues against the Ricardian theory of free\\ntrade in terms of his theory of real competition, which implies that success comes with absolute\\ncost advantage at the level of firms and may result in systematic and persistent imbalances in\\nthe world economy (Chapter 11)'"
      ]
     },
     "execution_count": 92,
     "metadata": {},
     "output_type": "execute_result"
    }
   ],
   "source": [
    "Capitalism1_list[224]"
   ]
  },
  {
   "cell_type": "code",
   "execution_count": 99,
   "id": "75f12d3f",
   "metadata": {
    "scrolled": true
   },
   "outputs": [
    {
     "name": "stdout",
     "output_type": "stream",
     "text": [
      "['', 'He', 'argues', 'against', 'the', 'Ricardian', 'theory', 'of', 'free\\ntrade', 'in', 'terms', 'of', 'his', 'theory', 'of', 'real', 'competition,', 'which', 'implies', 'that', 'success', 'comes', 'with', 'absolute\\ncost', 'advantage', 'at', 'the', 'level', 'of', 'firms', 'and', 'may', 'result', 'in', 'systematic', 'and', 'persistent', 'imbalances', 'in\\nthe', 'world', 'economy', '(Chapter', '11)']\n"
     ]
    }
   ],
   "source": [
    "print(Capitalism1_list[224].split(\" \"))"
   ]
  },
  {
   "cell_type": "code",
   "execution_count": 105,
   "id": "b10cec8d",
   "metadata": {},
   "outputs": [],
   "source": [
    "e = Capitalism1_list[224].split(\" \")"
   ]
  },
  {
   "cell_type": "code",
   "execution_count": 104,
   "id": "43be875b",
   "metadata": {},
   "outputs": [
    {
     "ename": "AttributeError",
     "evalue": "'list' object has no attribute 'strip'",
     "output_type": "error",
     "traceback": [
      "\u001b[1;31m---------------------------------------------------------------------------\u001b[0m",
      "\u001b[1;31mAttributeError\u001b[0m                            Traceback (most recent call last)",
      "\u001b[1;32m~\\AppData\\Local\\Temp/ipykernel_7212/550109726.py\u001b[0m in \u001b[0;36m<module>\u001b[1;34m\u001b[0m\n\u001b[1;32m----> 1\u001b[1;33m \u001b[0mx\u001b[0m \u001b[1;33m=\u001b[0m \u001b[0mCapitalism1_list\u001b[0m\u001b[1;33m[\u001b[0m\u001b[1;36m224\u001b[0m\u001b[1;33m]\u001b[0m\u001b[1;33m.\u001b[0m\u001b[0msplit\u001b[0m\u001b[1;33m(\u001b[0m\u001b[1;34m\" \"\u001b[0m\u001b[1;33m)\u001b[0m\u001b[1;33m.\u001b[0m\u001b[0mstrip\u001b[0m\u001b[1;33m(\u001b[0m\u001b[1;34m\",\"\u001b[0m\u001b[1;33m)\u001b[0m\u001b[1;33m.\u001b[0m\u001b[0mindex\u001b[0m\u001b[1;33m(\u001b[0m\u001b[1;34m\"competition,\"\u001b[0m\u001b[1;33m)\u001b[0m\u001b[1;33m\u001b[0m\u001b[1;33m\u001b[0m\u001b[0m\n\u001b[0m",
      "\u001b[1;31mAttributeError\u001b[0m: 'list' object has no attribute 'strip'"
     ]
    }
   ],
   "source": [
    "x = Capitalism1_list[224].split(\" \").index(\"competition,\")"
   ]
  },
  {
   "cell_type": "code",
   "execution_count": 103,
   "id": "3ae937aa",
   "metadata": {},
   "outputs": [
    {
     "name": "stdout",
     "output_type": "stream",
     "text": [
      "16\n"
     ]
    }
   ],
   "source": [
    "print(x)"
   ]
  }
 ],
 "metadata": {
  "kernelspec": {
   "display_name": "Python 3 (ipykernel)",
   "language": "python",
   "name": "python3"
  },
  "language_info": {
   "codemirror_mode": {
    "name": "ipython",
    "version": 3
   },
   "file_extension": ".py",
   "mimetype": "text/x-python",
   "name": "python",
   "nbconvert_exporter": "python",
   "pygments_lexer": "ipython3",
   "version": "3.7.11"
  }
 },
 "nbformat": 4,
 "nbformat_minor": 5
}
