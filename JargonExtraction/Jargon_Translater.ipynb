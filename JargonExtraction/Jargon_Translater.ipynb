{
 "cells": [
  {
   "cell_type": "code",
   "execution_count": 1,
   "id": "fe06e3f8",
   "metadata": {
    "scrolled": true
   },
   "outputs": [],
   "source": [
    "import PyPDF2 as py\n",
    "import nltk.data as nl\n",
    "from tika import parser\n",
    "import os\n",
    "import spacy\n",
    "import en_core_web_sm\n",
    "import re\n",
    "from spacy.lang.en.stop_words import STOP_WORDS\n",
    "from collections import Counter\n",
    "import transformers"
   ]
  },
  {
   "cell_type": "code",
   "execution_count": 2,
   "id": "f612261b",
   "metadata": {
    "scrolled": true
   },
   "outputs": [],
   "source": [
    "def numPages(file_name):\n",
    "    file_name = file_name + '.pdf'\n",
    "    file_path = os.getcwd() + '\\\\' + file_name\n",
    "    pdf = open(file_path, 'rb')\n",
    "    pdf_read = py.PdfFileReader(pdf)\n",
    "    print(pdf_read.getNumPages())\n",
    "    \n",
    "def displayPDF(file_name, begin, end):\n",
    "    len = end - begin\n",
    "    #print(file_name + '.pdf')\n",
    "    file_name = file_name + '.pdf'\n",
    "    file_path = os.getcwd() + '\\\\' + file_name\n",
    "    with open(file_path, mode = 'rb') as f:\n",
    "        for i in range(len + 1):\n",
    "            reader = py.PdfFileReader(f)\n",
    "            page = reader.getPage(begin + i - 1)\n",
    "            print(page.extractText())\n",
    "            \n",
    "def displayAll(file_name):\n",
    "    file_name = file_name + '.pdf'\n",
    "    file_path = os.getcwd() + '\\\\' + file_name\n",
    "    pdf = open(file_path, 'rb')\n",
    "    pdf_read = py.PdfFileReader(pdf)\n",
    "    i = 0\n",
    "    while i < pdf_read.getNumPages():\n",
    "        page = pdf_read.getPage(i)\n",
    "        text = page.extractText()\n",
    "        print(text)\n",
    "        i = i + 1\n",
    "\n",
    "def ExtractText(file_name):\n",
    "    raw = parser.from_file(os.getcwd() + '\\\\' + file_name + '.pdf')\n",
    "    return raw['content'][45:] \n",
    "\n",
    "def ExtractNouns(name):\n",
    "    nlp = spacy.load(\"en_core_web_sm\")\n",
    "    pdf = nlp(name)\n",
    "    nouns = []\n",
    "    for token in pdf:\n",
    "        if token.pos_ == \"NOUN\":\n",
    "            nouns.append(token)\n",
    "    return nouns\n",
    "\n",
    "def toLowerCase(list):\n",
    "    new_list = []\n",
    "    for word in list:\n",
    "        word = word.lower()\n",
    "        new_list.append(word)\n",
    "    return new_list\n",
    "\n",
    "def clean(input_list):\n",
    "    return [w for w in [str(tok) for tok in input_list] if len(w) > 0 and not w.isdigit()]\n",
    "    \n",
    "\n",
    "def Filter(list):\n",
    "    list_clean = clean(list)\n",
    "    new_list = []\n",
    "    list_lower = toLowerCase(list_clean)\n",
    "    jargon = ExtractText('PoliticalJargon')\n",
    "    jargonNouns = ExtractNouns(jargon)\n",
    "    jargonNouns_clean = clean(jargonNouns)\n",
    "    jargonNouns_lower = toLowerCase(jargonNouns_clean)\n",
    "    for noun in list_lower:\n",
    "        for political_noun in jargonNouns_lower:\n",
    "            if noun == political_noun:\n",
    "                new_list.append(noun)    \n",
    "    return set(new_list)\n",
    "                \n",
    "def wordsRemoved(list1, list2):\n",
    "    s1 = set(list1)\n",
    "    s2 = set(list2)\n",
    "    return s2 - s1\n"
   ]
  },
  {
   "cell_type": "code",
   "execution_count": 3,
   "id": "090b3b8f",
   "metadata": {},
   "outputs": [
    {
     "name": "stderr",
     "output_type": "stream",
     "text": [
      "2022-03-19 17:14:31,394 [MainThread  ] [INFO ]  Retrieving http://search.maven.org/remotecontent?filepath=org/apache/tika/tika-server/1.24/tika-server-1.24.jar to C:\\Users\\Michael\\AppData\\Local\\Temp\\tika-server.jar.\n",
      "2022-03-19 17:14:44,114 [MainThread  ] [INFO ]  Retrieving http://search.maven.org/remotecontent?filepath=org/apache/tika/tika-server/1.24/tika-server-1.24.jar.md5 to C:\\Users\\Michael\\AppData\\Local\\Temp\\tika-server.jar.md5.\n",
      "2022-03-19 17:14:45,097 [MainThread  ] [WARNI]  Failed to see startup log message; retrying...\n"
     ]
    },
    {
     "name": "stdout",
     "output_type": "stream",
     "text": [
      "[access, use, Print, homepage, Capitalism, Competition, Conflict, Crisis, article, Capitalism, Competition, Conflict, article, Author(s, trading, article, journal, Article, views, articles, data, articles, articles, advance, risk, possibility, transformation, engagement, art, theory, case, study, engagement, happening, truth, engagement, possibility, transformation, appraisal, vision, curriculum, education, chimera, constellation, teacher, student, curricu-, lum, matter, book, thing, interpretation, tradition, concern, discussion, methodology, journey, set, meanderings, pathways, circle, re, -, mapping, land-, scape, university, anthropology, gaze, homeland, trading, Capitalism, Competition, Conflict, book, time, time, attempt, objective, framework, economies, source, discussions, theory, economy, book, framework, theory, ambition, scope, book, review, undertaking, whole, title, book, ambition, capitalism, system, Capitalism, profit, motive, supply, demand, capitalism, forces, patterns, particularities, profit, motive, forces, intensity, competition, capitalism, number, firms, market, competition, seeking, firms, market, competition, profits, losses, year, year, others, business, firms, Winners, time, time, profits, upswing, markets, firms, barriers, entry, barriers, competition, war, tactics, strategy, whole, firm, advantages, understanding, competition, approach, conceptions, models, model, competition, economics, processes, system, capitalism, consumer, behaviour, need, utility, behaviour, part, metaphysics, order, tendency, consumers, price, rises, price, decreases, People, incomes, ten-, dency, tendency, responses, outcome, price, changes, processes, mechanisms, concerns, accounts, waves, aspect, path, project, return, tradition, image, tradition, basis, number, ideas, turn, evidence, instance, labour, costs, prices, claim, labour, theory, value, story, book, whole, terms, concern, nature, world, develop-, ments, hand, history, world, progress, Standards, living, rise, health, being, welfare, hand, unevenness, localities, regions, nations, time, form, booms, busts, break-, downs, Order, disorder, Unevenness, disorder, circumstances, crises, recoveries, part, process, question, system, institutions, regulations, structures, pat-, question, decades, crisis, tendency, market, economy, financialization, rise, pattern, booms, busts, bit, problematic, idea, waves, development, PhD, thesis, Crises, speakers, history, capitalism, centuries, patterns, booms, busts, Figure, waves, waves, price, levels, terms, gold, figure, wave, opinion, turning, point, differences, difficulties, macrohistory, stories, world, history, terms, period, 1970s, period, growth, world, population, capita, income, factor, world, GDP, capita, figure, rate, growth, estimation, welfare, terms, factor, period, average, growth, rate, %, %, world, REVIEWS, price, level, deviations, trend, price, levels, terms, gold, price, kinds, reasons, response, turbulence, markets, step, theory, interpretation, assumption, conclusion, wave, world, economy, wave, changes, price, gold, hypothesis, uncertainties, financialization, explanations, causes, trend, prices, nature, models, clarifies, times, demi, regularities, example, demi, regularity, contrast, periods, stand, role, metaphors, discussions, waves, world, economy, basis, models, dependency, thinking, metaphors, politics, capitalism, realities, poten-, struggle, capital, labour, case, point, heterodoxy, implication, orthodox, approaches, workers, say, standard, living, theories, wage, level, labour, pro-, ductivity, requirements, employment, ups, economists, wages, worker, productivity, post, role, position, individuals, labour, markets, theories, ways, bargaining, struggles, matter, conditions, institutions, points, amount, labour, change, ments, effects, labour, struggles, wage, wage, share, connections, labour, strength, variables, employment, business, savings, investments, inflation, picture, basis, criticism, theories, instance, acceleration, demand, policy, state, unemployment, wage, share, effects, demand, injection, process, accumulation, gravitation, capacity, utilization, rate, rate, profit, gravitates, rate, demand, circle, output, productivity, growth, while, run, idea, fall, profitability, effects, demand, policy, terms, position, policy, rate, accumulation, unemployment, labour, end, explanations, contrary, rate, unemployment, rate, unemployment, inflation, rate, unemployment, return, ideas, economy, ways, reading, thinker, capit-, alism, system, laws, balance, power, labour, capital, policy, -, outcomes, system, degrees, freedom, agency, Struggles, improvements, space, state, policy, kinds, ways, idea, system, whole, structures, reading, thinker, pessimist, conclusion, capitalism, laws, alternative, capitalism, limits, constraints, future, understanding, system, ering, limit, metaphor, position, position, policy, advice, pessimism, approach, part, book, stan-, dard, techniques, modelling, variables, system, system, whole, variables, terms, differences, orthodoxy, levels, differences, points, convergence, instance, theory, money, position, states, money, taxes, stage, response, states, nation, response, state, argument, origins, money, creation, states, system, world, origin, money, consciousness, development, thinking, origins, writing, mathematics, space, argument, purpose, claims, example, powers, money, cre-, ation, point, example, contentions, ideas, policies, theorists, times, tacit, convergence, orthodoxy, methodology, realist, view, controversies, theory, debates, causes, B, B, A, A, B, model, model, instance, money, savings, investments, investments, savings, sorts, methods, economists, world, systems, system, event, regularity, A, B, conditions, theorists, causes, B, vice, versa, techniques, REVIEWS, frequencies, measurability, systems, event, conjunctions, problem, studies, relationships, problem, tendency, variables, space, agency, freedom, history, politics, alternatives, sustainability, democracy, eman-, cipation, learning, alienation, socialism, alternatives, assumptions, ethico-, intentions, assumptions, edifice, grounds, systems, event, regularities, ways, realist, forces, mechanisms, tendencies, outcomes, systems, forces, mechanisms, change, agreement, importance, patterns, issue, account, theory, economy, institutions, regulations, structures, changes, difference, forces, mechanisms, tendencies, economy, institutions, regulations, structures, forms, subjectivity, agency, lot, discussions, theory, point, discussions, book, forms, modelling, estimation, systems, topics, economics, ables, metamodel, system, whole, capital, labour, politico, thinking, project, ontology, causation, systems, Conclusions, capitalism, alism, fashion, term, capitalism, capital, capitalists, class, capi-, mode, production, term, capitalism, century, criti-, cal, term, society, system, dominance, capitalists, ideas, book, meaning, term, entrepreneurs, capi-, talists, capital-, ism, decline, passages, term, developments, per-, data, time, era, growth, 1820s, wars, theorists, impact, understanding, nature, rise, market, society, theorists, self, markets, constructs, rise, i, gain, orientation, market, economy, iii, state, transformation, markets, avenue, exchange, goods, market, society, changes, transformation, century, memorable, formu-, lation, world, surge, planetary, economy, rules, world, economy, centre, analyti-, cal, framework, framework, causes, turmoil, disorder, 2010s, vision, self, markets, peace, conflict, viewpoint, world, circumstances, future, globalization, theory, trade, terms, theory, competition, success, cost, advantage, level, firms, imbalances, world, economy, Chapter, spite, observations, part, nationalism, models, analysis, nation, state, container, processes, dichotomy, economics, tenets, reliance, systems, method-, ology, part, analysis, book, handbook, variety, topics, review, conclusion, Capitalism, foundation, theory, methodology, ontology, economy, level, half, characteristics, discourse, modernity, freedom, References, Principles, History, syklit, Crises, Philosophy, Mind, M.E.Sharpe, Century, Movement, Globalizations, REVIEWS, Money, Theory, Author(s, trading, Access, article, terms, use, distribution, reproduction, medium, work, way]\n"
     ]
    }
   ],
   "source": [
    "Capitalism1 = ExtractText('Capitalism1')\n",
    "CapitatlismNouns = ExtractNouns(Capitalism1)\n",
    "print(CapitatlismNouns)"
   ]
  },
  {
   "cell_type": "code",
   "execution_count": 4,
   "id": "7a9e26cc",
   "metadata": {
    "scrolled": true
   },
   "outputs": [
    {
     "name": "stdout",
     "output_type": "stream",
     "text": [
      "{'theory', 'market', 'output', 'goods', 'trade', 'production', 'class', 'workers', '-', 'competition', 'cost', 'demand', 'way', 'standard', 'nationalism', 'surge', 'order', 'utility', 'power', 'people', 'crisis', 'development', 'capacity', 'balance', 'advance', 'framework', 'system', 'path', 'return', 'hand', 'hypothesis', 'firms', 'account', 'policies', 'policy', 'issue', 'creation', 'progress', 'peace', 'centre', 'profit', 'welfare', 'title', 'process', 'value', 'politics', 'price', 'labour', 'run', 'rate', 'money', 'analysis', 'wages', 'requirements', 'economy', 'motive', 'business', 'state', 'consumer', 'firm', 'savings', 'methods', 'wage', 'costs', 'entry', 'point', 'figure', 'growth', 'advantage', 'freedom', 'supply', 'problem', 'rules', 'democracy', 'forces', 'economics', 'prices', 'capital', 'tradition', 'model', 'terms', 'risk', 'population', 'powers', 'nation', 'capitalism', 'factor', 'dichotomy', 'metaphors', 'print', 'trading', 'markets', 'wars', 'barriers', 'income', 'exchange', 'employment', 'basis', 'agency', 'inflation', 'gold', 'time', 'socialism', 'unemployment', 'economies', 'opinion', 'term', 'tendency'}\n"
     ]
    }
   ],
   "source": [
    "filtered = Filter(CapitatlismNouns)\n",
    "print(filtered)"
   ]
  },
  {
   "cell_type": "code",
   "execution_count": 5,
   "id": "b4085451",
   "metadata": {},
   "outputs": [
    {
     "name": "stdout",
     "output_type": "stream",
     "text": [
      "{'waves', 'gravitation', 'response', 'conceptions', 'role', 'cipation', 'accounts', 'journal', 'rise', 'limits', 'crises', 'ductivity', 'modelling', 'intentions', 'developments', 'injection', 'university', 'cal', 'reproduction', 'points', 'chimera', 'outcome', 'worker', 'evidence', 'clarifies', 'origin', 'approach', 'criticism', 'advantages', 'degrees', 'example', 'models', 'ways', 'cre-', 'set', 'discourse', 'studies', 'work', 'problematic', 'capit-', 'measurability', 'teacher', 'productivity', 'meanderings', 'attempt', 'period', 'deviations', 'bargaining', 'realist', 'mechanisms', 'upswing', 'decreases', 'engagement', 'spite', 'localities', 'entrepreneurs', 'eman-', 'turmoil', 'end', 'others', 'globalization', 'orthodox', 'topics', 'utilization', 'constructs', 'container', 'unevenness', 'regularity', 'states', 'idea', 'm.e.sharpe', 'origins', '1820s', 'thinking', 'post', 'land-', 'position', 'interpretation', 'project', '1970s', 'instance', 'level', 'dominance', 'future', 'average', 'health', 'distribution', 'mathematics', 'contentions', 'ology', 'downs', 'per-', 'ables', 'demi', 'viewpoint', 'fall', 'causation', 'stan-', 'space', 'method-', 'ontology', 'orientation', 'capitalists', 'pat-', 'ideas', 'vice', 'approaches', 'acceleration', 'claims', 'access', 'question', 'truth', 'economists', 'capital-', 'macrohistory', 'tactics', 'regularities', 'review', 'break-', 'step', 'impact', 'source', 'improvements', 'planetary', 'observations', 'variables', 'circle', 'art', 'thinker', 'year', 'handbook', 'article', 'use', 'disorder', 'taxes', 'articles', 'versa', 'stand', 'anthropology', 'sustainability', 'behaviour', 'writing', 'regions', 'history', 'kinds', 'mind', 'importance', 'causes', 'politico', 'change', 'criti-', '%', 'argument', 'study', 'form', 'happening', 'curriculum', 'conflict', 'image', 'assumption', 'investments', 'outcomes', 'frequencies', 'references', 'aspect', 'medium', 'claim', 'b', 'controversies', 'while', 'pathways', 'heterodoxy', 'effects', 'differences', 'matter', 'advice', 'ation', 'conclusions', 'say', 'metaphor', 'struggles', 'passages', 'ten-', 'part', 'war', 'amount', 'world', 'undertaking', 'orthodoxy', 'discussion', 'turn', 'need', 'ethico-', 'homepage', 'book', 'journey', 'consciousness', 'possibility', 'lot', 'stories', 'metamodel', 'reading', 'levels', 'transformation', 'gravitates', 'winners', 'view', 'conditions', 'reliance', 'busts', 'nature', 'trend', 'tenets', 'appraisal', 'profitability', 'changes', 'lum', 'discussions', 'homeland', 'patterns', 'financialization', 'ering', 'conjunctions', 'sorts', 'limit', 'imbalances', 'student', 'poten-', 'dard', 'ambition', 'difficulties', 'recoveries', 'lation', 'conclusion', 'laws', 'case', 'ism', 'times', 'strength', 'thing', 'gdp', 'share', 'reasons', 'turbulence', 'alternative', 'individuals', 'i', 'debates', 'scope', 'circumstances', 'event', 'half', 'rises', 'struggle', 'pro-', 'stage', 'theorists', 'a', 'curricu-', 'chapter', 'constellation', 'views', 'relationships', 'connections', 'regulations', 'difference', 'self', 'alternatives', 'nations', 're', 'losses', 'tendencies', 'agreement', 'seeking', 'analyti-', 'decline', 'data', 'avenue', 'theories', 'constraints', 'systems', 'decades', 'scape', 'metaphysics', 'syklit', 'convergence', 'learning', 'principles', 'concern', 'processes', 'purpose', 'iii', 'accumulation', 'strategy', 'realities', 'author(s', 'periods', 'techniques', 'methodology', 'concerns', 'formu-', 'alism', 'estimation', 'bit', 'era', 'education', 'uncertainties', 'contrast', 'consumers', 'particularities', 'structures', 'phd', 'booms', 'memorable', 'picture', 'responses', '2010s', 'intensity', 'reviews', 'pessimism', 'century', 'number', 'assumptions', 'living', 'implication', 'dency', 'centuries', 'meaning', 'capita', 'alienation', 'thesis', 'mode', 'ments', 'pattern', 'variety', 'mapping', 'movement', 'standards', 'vision', 'incomes', 'turning', 'wave', 'forms', 'being', 'philosophy', 'pessimist', 'fashion', 'profits', 'edifice', 'story', 'gain', 'tacit', 'subjectivity', 'grounds', 'objective', 'institutions', 'whole', 'explanations', 'gaze', 'foundation', 'dependency', 'understanding', 'speakers', 'capi-', 'talists', 'success', 'modernity', 'society', 'ups', 'characteristics', 'globalizations', 'develop-', 'contrary'}\n"
     ]
    }
   ],
   "source": [
    "b = wordsRemoved(filtered, toLowerCase(clean(CapitatlismNouns)))\n",
    "print(b)"
   ]
  },
  {
   "cell_type": "code",
   "execution_count": 6,
   "id": "4caecdc8",
   "metadata": {},
   "outputs": [
    {
     "name": "stdout",
     "output_type": "stream",
     "text": [
      "[('world', 14), ('system', 13), ('theory', 12), ('economy', 12), ('capitalism', 11), ('labour', 11), ('book', 10), ('terms', 9), ('rate', 9), ('price', 8)]\n"
     ]
    }
   ],
   "source": [
    "nlp = spacy.load(\"en_core_web_sm\")\n",
    "doc = nlp(Capitalism1)\n",
    "words = [token.text\n",
    "         for token in doc\n",
    "         if not token.is_stop and not token.is_punct]\n",
    "\n",
    "nouns = [token.text\n",
    "         for token in doc\n",
    "         if (not token.is_stop and\n",
    "             not token.is_punct and\n",
    "             token.pos_ == \"NOUN\")]\n",
    "\n",
    "word_freq = Counter(words)\n",
    "common_words = word_freq.most_common(10)\n",
    "\n",
    "noun_freq = Counter(nouns)\n",
    "common_nouns = noun_freq.most_common(10)\n",
    "print(common_nouns)\n"
   ]
  },
  {
   "cell_type": "code",
   "execution_count": 7,
   "id": "f1c3a313",
   "metadata": {
    "scrolled": true
   },
   "outputs": [
    {
     "data": {
      "application/vnd.jupyter.widget-view+json": {
       "model_id": "71f52adb51aa4cf7817911e95d79471b",
       "version_major": 2,
       "version_minor": 0
      },
      "text/plain": [
       "Downloading:   0%|          | 0.00/230 [00:00<?, ?B/s]"
      ]
     },
     "metadata": {},
     "output_type": "display_data"
    },
    {
     "name": "stderr",
     "output_type": "stream",
     "text": [
      "Couldn't reach server at 'https://s3.amazonaws.com/models.huggingface.co/bert/distilbert-base-uncased-finetuned-sst-2-english-modelcard.json' to download model card file.\n",
      "Creating an empty model card.\n"
     ]
    },
    {
     "name": "stdout",
     "output_type": "stream",
     "text": [
      "[{'label': 'POSITIVE', 'score': 0.99986565}]\n"
     ]
    }
   ],
   "source": [
    "from transformers import pipeline\n",
    "classifier = pipeline('sentiment-analysis')\n",
    "result = classifier(\n",
    "        \"I love you\",\n",
    ")\n",
    "print(result)\n"
   ]
  },
  {
   "cell_type": "code",
   "execution_count": 8,
   "id": "faa23338",
   "metadata": {},
   "outputs": [
    {
     "name": "stdout",
     "output_type": "stream",
     "text": [
      "3491\n"
     ]
    }
   ],
   "source": [
    "def get_word_count(string):\n",
    "    # Here we are removing the spaces from start and end,\n",
    "    # and breaking every word whenever we encounter a space\n",
    "    # and storing them in a list. The len of the list is the\n",
    "    # total count of words.\n",
    "    return(len(string.strip().split(\" \")))\n",
    "print(get_word_count(Capitalism1))"
   ]
  },
  {
   "cell_type": "code",
   "execution_count": 11,
   "id": "d8027c6e",
   "metadata": {},
   "outputs": [
    {
     "data": {
      "text/plain": [
       "108"
      ]
     },
     "execution_count": 11,
     "metadata": {},
     "output_type": "execute_result"
    }
   ],
   "source": [
    "len(filtered)"
   ]
  },
  {
   "cell_type": "code",
   "execution_count": null,
   "id": "b004e3b9",
   "metadata": {},
   "outputs": [],
   "source": []
  }
 ],
 "metadata": {
  "kernelspec": {
   "display_name": "Python 3 (ipykernel)",
   "language": "python",
   "name": "python3"
  },
  "language_info": {
   "codemirror_mode": {
    "name": "ipython",
    "version": 3
   },
   "file_extension": ".py",
   "mimetype": "text/x-python",
   "name": "python",
   "nbconvert_exporter": "python",
   "pygments_lexer": "ipython3",
   "version": "3.7.11"
  }
 },
 "nbformat": 4,
 "nbformat_minor": 5
}
