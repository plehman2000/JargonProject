{
 "cells": [
  {
   "cell_type": "code",
   "execution_count": 79,
   "id": "fe06e3f8",
   "metadata": {
    "scrolled": true
   },
   "outputs": [],
   "source": [
    "import PyPDF2 as py\n",
    "import nltk.data as nl\n",
    "from tika import parser\n",
    "import os\n",
    "import spacy\n",
    "import en_core_web_sm\n",
    "import re\n",
    "from spacy.lang.en.stop_words import STOP_WORDS\n",
    "from collections import Counter\n",
    "import transformers"
   ]
  },
  {
   "cell_type": "code",
   "execution_count": 80,
   "id": "f612261b",
   "metadata": {
    "scrolled": true
   },
   "outputs": [],
   "source": [
    "def numPages(file_name):\n",
    "    file_name = file_name + '.pdf'\n",
    "    file_path = os.getcwd() + '\\\\' + file_name\n",
    "    pdf = open(file_path, 'rb')\n",
    "    pdf_read = py.PdfFileReader(pdf)\n",
    "    print(pdf_read.getNumPages())\n",
    "    \n",
    "def displayPDF(file_name, begin, end):\n",
    "    len = end - begin\n",
    "    #print(file_name + '.pdf')\n",
    "    file_name = file_name + '.pdf'\n",
    "    file_path = os.getcwd() + '\\\\' + file_name\n",
    "    with open(file_path, mode = 'rb') as f:\n",
    "        for i in range(len + 1):\n",
    "            reader = py.PdfFileReader(f)\n",
    "            page = reader.getPage(begin + i - 1)\n",
    "            print(page.extractText())\n",
    "            \n",
    "def displayAll(file_name):\n",
    "    file_name = file_name + '.pdf'\n",
    "    file_path = os.getcwd() + '\\\\' + file_name\n",
    "    pdf = open(file_path, 'rb')\n",
    "    pdf_read = py.PdfFileReader(pdf)\n",
    "    i = 0\n",
    "    while i < pdf_read.getNumPages():\n",
    "        page = pdf_read.getPage(i)\n",
    "        text = page.extractText()\n",
    "        print(text)\n",
    "        i = i + 1\n",
    "\n",
    "def ExtractText(file_name):\n",
    "    raw = parser.from_file(os.getcwd() + '\\\\' + file_name + '.pdf')\n",
    "    return raw['content'][45:] \n",
    "\n",
    "def ExtractNouns(name):\n",
    "    nlp = spacy.load(\"en_core_web_sm\")\n",
    "    pdf = nlp(name)\n",
    "    nouns = []\n",
    "    for token in pdf:\n",
    "        if token.pos_ == \"NOUN\":\n",
    "            nouns.append(token)\n",
    "    return nouns\n",
    "\n",
    "def ExtractVerbs(name):\n",
    "    nlp = spacy.load(\"en_core_web_sm\")\n",
    "    pdf = nlp(name)\n",
    "    verbs = []\n",
    "    for token in pdf:\n",
    "        if token.pos_ == \"VERB\":\n",
    "            verbs.append(token)\n",
    "    return verbs\n",
    "\n",
    "def ExtractAdjectives(name):\n",
    "    nlp = spacy.load(\"en_core_web_sm\")\n",
    "    pdf = nlp(name)\n",
    "    adjectives = []\n",
    "    for token in pdf:\n",
    "        if token.pos_ == \"ADJECTIVES\":\n",
    "            adjectives.append(token)\n",
    "    return adjectives\n",
    "\n",
    "def toLowerCase(list):\n",
    "    new_list = []\n",
    "    for word in list:\n",
    "        word = word.lower()\n",
    "        new_list.append(word)\n",
    "    return new_list\n",
    "\n",
    "def clean(input_list):\n",
    "    return [w for w in [str(tok) for tok in input_list] if len(w) > 0 and not w.isdigit()]\n",
    "    \n",
    "\n",
    "def Filter(list):\n",
    "    list_clean = clean(list)\n",
    "    new_list = []\n",
    "    list_lower = toLowerCase(list_clean)\n",
    "    jargon = ExtractText('PoliticalJargon')\n",
    "    jargonNouns = ExtractNouns(jargon)\n",
    "    jargonNouns_clean = clean(jargonNouns)\n",
    "    jargonNouns_lower = toLowerCase(jargonNouns_clean)\n",
    "    for noun in list_lower:\n",
    "        for political_noun in jargonNouns_lower:\n",
    "            if noun == political_noun:\n",
    "                new_list.append(noun)    \n",
    "    return set(new_list)\n",
    "                \n",
    "def wordsRemoved(list1, list2):\n",
    "    s1 = set(list1)\n",
    "    s2 = set(list2)\n",
    "    return s2 - s1\n",
    "\n",
    "def getJargoninMap(name):\n",
    "    PDF_verbs = ExtractVerbs(name)\n",
    "    PDF_filtered_verbs = Filter(PDF_verbs)\n",
    "    verbs_dict = {}\n",
    "    for word in PDF_filtered_verbs:\n",
    "        verbs_dict[word] = 'Verb'\n",
    "    nouns_dict = {}\n",
    "    PDF_nouns = ExtractNouns(name)\n",
    "    PDF_filtered_nouns = Filter(PDF_nouns)\n",
    "    for word in PDF_filtered_nouns:\n",
    "        nouns_dict[word] = 'Noun'\n",
    "    jargon = {**verbs_dict, **nouns_dict}\n",
    "    return jargon\n",
    "    \n",
    "    \n"
   ]
  },
  {
   "cell_type": "code",
   "execution_count": 81,
   "id": "6d363a29",
   "metadata": {},
   "outputs": [],
   "source": [
    "Capitalism1 = ExtractText('Capitalism1')"
   ]
  },
  {
   "cell_type": "code",
   "execution_count": 82,
   "id": "2c1f22a7",
   "metadata": {
    "scrolled": true
   },
   "outputs": [],
   "source": [
    "jargon = getJargoninMap(Capitalism1)"
   ]
  },
  {
   "cell_type": "code",
   "execution_count": 83,
   "id": "6a730f38",
   "metadata": {
    "scrolled": true
   },
   "outputs": [
    {
     "name": "stdout",
     "output_type": "stream",
     "text": [
      "{'monopoly': 'Verb', 'run': 'Noun', 'benefit': 'Verb', 'agency': 'Noun', 'opinion': 'Noun', 'market': 'Noun', 'title': 'Noun', 'nation': 'Noun', 'order': 'Noun', 'wage': 'Noun', 'advantage': 'Noun', 'profit': 'Noun', 'framework': 'Noun', 'return': 'Noun', 'issue': 'Noun', 'unemployment': 'Noun', 'state': 'Noun', 'term': 'Noun', 'entry': 'Noun', 'firm': 'Noun', 'metaphors': 'Noun', 'methods': 'Noun', 'centre': 'Noun', 'analysis': 'Noun', 'consumer': 'Noun', 'system': 'Noun', 'process': 'Noun', 'powers': 'Noun', 'risk': 'Noun', 'motive': 'Noun', 'path': 'Noun', 'hand': 'Noun', 'nationalism': 'Noun', 'population': 'Noun', 'supply': 'Noun', 'demand': 'Noun', 'model': 'Noun', 'money': 'Noun', 'crisis': 'Noun', 'standard': 'Noun', 'balance': 'Noun', 'barriers': 'Noun', 'rules': 'Noun', 'growth': 'Noun', 'firms': 'Noun', 'creation': 'Noun', 'capacity': 'Noun', 'capital': 'Noun', 'figure': 'Noun', 'savings': 'Noun', 'advance': 'Noun', 'workers': 'Noun', 'policies': 'Noun', 'output': 'Noun', 'trade': 'Noun', 'gold': 'Noun', 'theory': 'Noun', 'people': 'Noun', 'socialism': 'Noun', 'goods': 'Noun', 'costs': 'Noun', 'price': 'Noun', 'regulations': 'Noun', 'surge': 'Noun', 'print': 'Noun', 'economy': 'Noun', 'economies': 'Noun', 'income': 'Noun', 'capitalism': 'Noun', 'competition': 'Noun', 'hypothesis': 'Noun', 'trading': 'Noun', 'account': 'Noun', 'democracy': 'Noun', '-': 'Noun', 'factor': 'Noun', 'problem': 'Noun', 'exchange': 'Noun', 'freedom': 'Noun', 'utility': 'Noun', 'labour': 'Noun', 'rate': 'Noun', 'peace': 'Noun', 'development': 'Noun', 'markets': 'Noun', 'way': 'Noun', 'time': 'Noun', 'dichotomy': 'Noun', 'wars': 'Noun', 'politics': 'Noun', 'forces': 'Noun', 'business': 'Noun', 'progress': 'Noun', 'value': 'Noun', 'inflation': 'Noun', 'policy': 'Noun', 'class': 'Noun', 'globalization': 'Noun', 'power': 'Noun', 'terms': 'Noun', 'tendency': 'Noun', 'wages': 'Noun', 'employment': 'Noun', 'economics': 'Noun', 'prices': 'Noun', 'production': 'Noun', 'tradition': 'Noun', 'cost': 'Noun', 'globalizations': 'Noun'}\n"
     ]
    }
   ],
   "source": [
    "print(jargon)"
   ]
  },
  {
   "cell_type": "code",
   "execution_count": 63,
   "id": "16c19ff2",
   "metadata": {},
   "outputs": [],
   "source": [
    "## Everything Necessary is above. Everything below is just for further analysis and not necessary"
   ]
  },
  {
   "cell_type": "code",
   "execution_count": 64,
   "id": "236b919c",
   "metadata": {
    "scrolled": true
   },
   "outputs": [
    {
     "name": "stdout",
     "output_type": "stream",
     "text": [
      "[led, can, found, https://www.tandfonline.com/loi/yjcr20, cite, link, Published, Published, Submit, Citing, citing, https://www.tandfonline.com/doi/citedby/10.1080/14767430.2017.1332807#tabModule, https://www.tandfonline.com/doi/citedby/10.1080/14767430.2017.1332807#tabModule, can, specified, put, know, offers, seems, offered, glimpse, attempt, may, weaving, overlap, viewed, turning, rendered, will, returning, achieve, provide, understanding, provides, provides, covers, Given, describing, assessing, indicates, analyse, understand, driven, regulates, generate, recurring, cending, given, sets, turns, seek, suffer, surviving, go, bought, may, make, attract, trying, overcome, involving, seeks, achieve, REALISM, relying, explores, Consider, assume, maximizing, optimizing, explain, respond, constrained, suffices, arise, dictate, can, intervene, breaking, forms, grounded, maintains, determine, run, grounded, comes, frames, developed, appears, improve, seems, emerges, evolve, changes, managed, retain, puzzled, read, gives, recurring, see, linked, argues, reveals, recurring, displays, calls, measured, seems, indicate, disagree, expressed, point, reading, telling, doubled, grown, indicates, increasing, declined, close, assumes, measured, varies, must, take, move, may, reflect, would, rising, Given, contrasting, underlying, might, ask, can, identify, may, rely, allow, acknowledge, concerning, see, see, matter, displays, criticizes, determined, construed, monopoly, assume, say, concurring, stresses, respond, explores, emerging, would, expect, would, decrease, increase, might, affecting, implies, continues, pointing, led, may, generate, holds, according, will, undermine, increased, chosen, will, sound, ing, REALISM, can, read, argues, prevail, co, determine, remains, can, achieve, constrained, would, change, reached, live, accept, can, see, works, becomes, use, may, approach, seems, follow, relies, turning, becomes, explained, saying, implying, reaching, criticizes, know, arise, resisted, Mehrling, seems, confuse, emerging, tied, develop, defend, developed, think, give, developed, emerges, consists, causes, determined, specified, determined, determine, assume, including, must, consist, occurs, agree, define, presuppose, closed, attempting, determine, estimated, tend, break, endogenize, leaves, overcoming, downplays, serve, undermine, leave, enduring, change, tries, seeing, generating, may, may, result, can, reiterate, recurring, must, taken, acknowledges, change, can, make, studying, constituted, learnt, resorts, closed, wants, cover, endogenizing, struggles, holds, doing, becomes, would, benefit, rethinking, define, characterize, known, use, theorized, talked, analysed, became, describing, characterized, established, insisted, distinguishing, anticipated, discusses, covers, focusses, started, following, avoids, mentioning, made, REALISM, published, argued, adjusting, connected, existed, born, emerged, Following, related, swept, placed, governing, illuminating, becoming, regulating, leads, intensified, seems, heading, argues, implies, comes, may, result, seems, committed, assumes, seems, reproducing, linked, closed, covering, consider, provide, would, require, matizing, reconstructing, remains, needed, Enlightened, edited, Thought, Can, Happen, Published, distributed, permits, provided, cited, altered, transformed, built, JOURNAL, REALISM]\n"
     ]
    }
   ],
   "source": [
    "CapitatlismVerbs = ExtractVerbs(Capitalism1)\n",
    "print(CapitatlismVerbs)"
   ]
  },
  {
   "cell_type": "code",
   "execution_count": 65,
   "id": "f4c42f1b",
   "metadata": {
    "scrolled": true
   },
   "outputs": [
    {
     "name": "stdout",
     "output_type": "stream",
     "text": [
      "{'monopoly', 'run', 'benefit'}\n"
     ]
    }
   ],
   "source": [
    "filteredVerbs = Filter(CapitatlismVerbs)\n",
    "print(filteredVerbs)"
   ]
  },
  {
   "cell_type": "code",
   "execution_count": 66,
   "id": "5c3bed7b",
   "metadata": {},
   "outputs": [
    {
     "name": "stdout",
     "output_type": "stream",
     "text": [
      "{'existed', 'remains', 'wants', 'describing', 'break', 'enduring', 'trying', 'grounded', 'transformed', 'matter', 'rising', 'constituted', 'puzzled', 'can', 'seek', 'realism', 'relying', 'weaving', 'connected', 'argues', 'known', 'know', 'breaking', 'increasing', 'overcome', 'endogenize', 'might', 'managed', 'use', 'bought', 'emerging', 'undermine', 'live', 'made', 'specified', 'tries', 'published', 'defend', 'would', 'explain', 'causes', 'focusses', 'rely', 'require', 'frames', 'submit', 'resisted', 'seeks', 'linked', 'increased', 'started', 'including', 'forms', 'governing', 'recurring', 'make', 'cite', 'struggles', 'leaves', 'born', 'thought', 'criticizes', 'reiterate', 'concerning', 'intervene', 'needed', 'occurs', 'displays', 'becomes', 'established', 'presuppose', 'regulating', 'varies', 'explores', 'ask', 'evolve', 'confuse', 'built', 'identify', 'seems', 'discusses', 'resorts', 'analyse', 'link', 'appears', 'calls', 'holds', 'theorized', 'tend', 'reading', 'allow', 'take', 'related', 'retain', 'sound', 'think', 'define', 'concurring', 'committed', 'swept', 'offers', 'becoming', 'downplays', 'dictate', 'relies', 'explained', 'tied', 'decrease', 'acknowledges', 'consider', 'assume', 'glimpse', 'matizing', 'reflect', 'go', 'grown', 'continues', 'happen', 'taken', 'closed', 'develop', 'close', 'analysed', 'led', 'implies', 'contrasting', 'serve', 'following', 'https://www.tandfonline.com/loi/yjcr20', 'doubled', 'regulates', 'point', 'covering', 'adjusting', 'distributed', 'mentioning', 'understanding', 'illuminating', 'maintains', 'developed', 'argued', 'sets', 'seeing', 'returning', 'saying', 'implying', 'expressed', 'affecting', 'emerges', 'became', 'https://www.tandfonline.com/doi/citedby/10.1080/14767430.2017.1332807#tabmodule', 'enlightened', 'consist', 'characterize', 'put', 'increase', 'determined', 'say', 'approach', 'reaching', 'turning', 'learnt', 'distinguishing', 'endogenizing', 'overcoming', 'leave', 'citing', 'consists', 'characterized', 'reconstructing', 'leads', 'arise', 'emerged', 'read', 'placed', 'attract', 'telling', 'insisted', 'according', 'estimated', 'edited', 'journal', 'intensified', 'reproducing', 'overlap', 'generate', 'viewed', 'turns', 'attempt', 'achieve', 'move', 'understand', 'acknowledge', 'reveals', 'offered', 'cover', 'see', 'anticipated', 'ing', 'cited', 'measured', 'works', 'given', 'found', 'rethinking', 'cending', 'will', 'altered', 'result', 'constrained', 'accept', 'involving', 'follow', 'expect', 'driven', 'disagree', 'attempting', 'stresses', 'respond', 'provide', 'chosen', 'assumes', 'optimizing', 'mehrling', 'provided', 'talked', 'avoids', 'pointing', 'declined', 'must', 'underlying', 'reached', 'indicate', 'suffer', 'agree', 'surviving', 'may', 'determine', 'doing', 'comes', 'co', 'give', 'generating', 'studying', 'rendered', 'suffices', 'maximizing', 'construed', 'heading', 'gives', 'covers', 'provides', 'permits', 'indicates', 'improve', 'changes', 'change', 'prevail', 'assessing'}\n"
     ]
    }
   ],
   "source": [
    "verbsRemoved = wordsRemoved(filteredVerbs, toLowerCase(clean(CapitatlismVerbs)))\n",
    "print(verbsRemoved)"
   ]
  },
  {
   "cell_type": "code",
   "execution_count": 67,
   "id": "090b3b8f",
   "metadata": {
    "scrolled": true
   },
   "outputs": [
    {
     "name": "stdout",
     "output_type": "stream",
     "text": [
      "[access, use, Print, homepage, Capitalism, Competition, Conflict, Crisis, article, Capitalism, Competition, Conflict, article, Author(s, trading, article, journal, Article, views, articles, data, articles, articles, advance, risk, possibility, transformation, engagement, art, theory, case, study, engagement, happening, truth, engagement, possibility, transformation, appraisal, vision, curriculum, education, chimera, constellation, teacher, student, curricu-, lum, matter, book, thing, interpretation, tradition, concern, discussion, methodology, journey, set, meanderings, pathways, circle, re, -, mapping, land-, scape, university, anthropology, gaze, homeland, trading, Capitalism, Competition, Conflict, book, time, time, attempt, objective, framework, economies, source, discussions, theory, economy, book, framework, theory, ambition, scope, book, review, undertaking, whole, title, book, ambition, capitalism, system, Capitalism, profit, motive, supply, demand, capitalism, forces, patterns, particularities, profit, motive, forces, intensity, competition, capitalism, number, firms, market, competition, seeking, firms, market, competition, profits, losses, year, year, others, business, firms, Winners, time, time, profits, upswing, markets, firms, barriers, entry, barriers, competition, war, tactics, strategy, whole, firm, advantages, understanding, competition, approach, conceptions, models, model, competition, economics, processes, system, capitalism, consumer, behaviour, need, utility, behaviour, part, metaphysics, order, tendency, consumers, price, rises, price, decreases, People, incomes, ten-, dency, tendency, responses, outcome, price, changes, processes, mechanisms, concerns, accounts, waves, aspect, path, project, return, tradition, image, tradition, basis, number, ideas, turn, evidence, instance, labour, costs, prices, claim, labour, theory, value, story, book, whole, terms, concern, nature, world, develop-, ments, hand, history, world, progress, Standards, living, rise, health, being, welfare, hand, unevenness, localities, regions, nations, time, form, booms, busts, break-, downs, Order, disorder, Unevenness, disorder, circumstances, crises, recoveries, part, process, question, system, institutions, regulations, structures, pat-, question, decades, crisis, tendency, market, economy, financialization, rise, pattern, booms, busts, bit, problematic, idea, waves, development, PhD, thesis, Crises, speakers, history, capitalism, centuries, patterns, booms, busts, Figure, waves, waves, price, levels, terms, gold, figure, wave, opinion, turning, point, differences, difficulties, macrohistory, stories, world, history, terms, period, 1970s, period, growth, world, population, capita, income, factor, world, GDP, capita, figure, rate, growth, estimation, welfare, terms, factor, period, average, growth, rate, %, %, world, REVIEWS, price, level, deviations, trend, price, levels, terms, gold, price, kinds, reasons, response, turbulence, markets, step, theory, interpretation, assumption, conclusion, wave, world, economy, wave, changes, price, gold, hypothesis, uncertainties, financialization, explanations, causes, trend, prices, nature, models, clarifies, times, demi, regularities, example, demi, regularity, contrast, periods, stand, role, metaphors, discussions, waves, world, economy, basis, models, dependency, thinking, metaphors, politics, capitalism, realities, poten-, struggle, capital, labour, case, point, heterodoxy, implication, orthodox, approaches, workers, say, standard, living, theories, wage, level, labour, pro-, ductivity, requirements, employment, ups, economists, wages, worker, productivity, post, role, position, individuals, labour, markets, theories, ways, bargaining, struggles, matter, conditions, institutions, points, amount, labour, change, ments, effects, labour, struggles, wage, wage, share, connections, labour, strength, variables, employment, business, savings, investments, inflation, picture, basis, criticism, theories, instance, acceleration, demand, policy, state, unemployment, wage, share, effects, demand, injection, process, accumulation, gravitation, capacity, utilization, rate, rate, profit, gravitates, rate, demand, circle, output, productivity, growth, while, run, idea, fall, profitability, effects, demand, policy, terms, position, policy, rate, accumulation, unemployment, labour, end, explanations, contrary, rate, unemployment, rate, unemployment, inflation, rate, unemployment, return, ideas, economy, ways, reading, thinker, capit-, alism, system, laws, balance, power, labour, capital, policy, -, outcomes, system, degrees, freedom, agency, Struggles, improvements, space, state, policy, kinds, ways, idea, system, whole, structures, reading, thinker, pessimist, conclusion, capitalism, laws, alternative, capitalism, limits, constraints, future, understanding, system, ering, limit, metaphor, position, position, policy, advice, pessimism, approach, part, book, stan-, dard, techniques, modelling, variables, system, system, whole, variables, terms, differences, orthodoxy, levels, differences, points, convergence, instance, theory, money, position, states, money, taxes, stage, response, states, nation, response, state, argument, origins, money, creation, states, system, world, origin, money, consciousness, development, thinking, origins, writing, mathematics, space, argument, purpose, claims, example, powers, money, cre-, ation, point, example, contentions, ideas, policies, theorists, times, tacit, convergence, orthodoxy, methodology, realist, view, controversies, theory, debates, causes, B, B, A, A, B, model, model, instance, money, savings, investments, investments, savings, sorts, methods, economists, world, systems, system, event, regularity, A, B, conditions, theorists, causes, B, vice, versa, techniques, REVIEWS, frequencies, measurability, systems, event, conjunctions, problem, studies, relationships, problem, tendency, variables, space, agency, freedom, history, politics, alternatives, sustainability, democracy, eman-, cipation, learning, alienation, socialism, alternatives, assumptions, ethico-, intentions, assumptions, edifice, grounds, systems, event, regularities, ways, realist, forces, mechanisms, tendencies, outcomes, systems, forces, mechanisms, change, agreement, importance, patterns, issue, account, theory, economy, institutions, regulations, structures, changes, difference, forces, mechanisms, tendencies, economy, institutions, regulations, structures, forms, subjectivity, agency, lot, discussions, theory, point, discussions, book, forms, modelling, estimation, systems, topics, economics, ables, metamodel, system, whole, capital, labour, politico, thinking, project, ontology, causation, systems, Conclusions, capitalism, alism, fashion, term, capitalism, capital, capitalists, class, capi-, mode, production, term, capitalism, century, criti-, cal, term, society, system, dominance, capitalists, ideas, book, meaning, term, entrepreneurs, capi-, talists, capital-, ism, decline, passages, term, developments, per-, data, time, era, growth, 1820s, wars, theorists, impact, understanding, nature, rise, market, society, theorists, self, markets, constructs, rise, i, gain, orientation, market, economy, iii, state, transformation, markets, avenue, exchange, goods, market, society, changes, transformation, century, memorable, formu-, lation, world, surge, planetary, economy, rules, world, economy, centre, analyti-, cal, framework, framework, causes, turmoil, disorder, 2010s, vision, self, markets, peace, conflict, viewpoint, world, circumstances, future, globalization, theory, trade, terms, theory, competition, success, cost, advantage, level, firms, imbalances, world, economy, Chapter, spite, observations, part, nationalism, models, analysis, nation, state, container, processes, dichotomy, economics, tenets, reliance, systems, method-, ology, part, analysis, book, handbook, variety, topics, review, conclusion, Capitalism, foundation, theory, methodology, ontology, economy, level, half, characteristics, discourse, modernity, freedom, References, Principles, History, syklit, Crises, Philosophy, Mind, M.E.Sharpe, Century, Movement, Globalizations, REVIEWS, Money, Theory, Author(s, trading, Access, article, terms, use, distribution, reproduction, medium, work, way]\n"
     ]
    }
   ],
   "source": [
    "\n",
    "CapitatlismNouns = ExtractNouns(Capitalism1)\n",
    "print(CapitatlismNouns)"
   ]
  },
  {
   "cell_type": "code",
   "execution_count": 68,
   "id": "7a9e26cc",
   "metadata": {
    "scrolled": true
   },
   "outputs": [
    {
     "name": "stdout",
     "output_type": "stream",
     "text": [
      "{'agency', 'opinion', 'market', 'title', 'nation', 'order', 'run', 'wage', 'advantage', 'profit', 'framework', 'return', 'issue', 'unemployment', 'state', 'term', 'entry', 'firm', 'metaphors', 'methods', 'centre', 'analysis', 'consumer', 'system', 'process', 'powers', 'risk', 'motive', 'path', 'hand', 'nationalism', 'population', 'supply', 'demand', 'model', 'money', 'crisis', 'standard', 'balance', 'barriers', 'rules', 'growth', 'firms', 'creation', 'capacity', 'capital', 'figure', 'savings', 'advance', 'workers', 'policies', 'output', 'trade', 'gold', 'theory', 'people', 'socialism', 'goods', 'costs', 'price', 'regulations', 'surge', 'print', 'economy', 'economies', 'income', 'capitalism', 'competition', 'hypothesis', 'trading', 'account', 'democracy', '-', 'factor', 'problem', 'exchange', 'freedom', 'utility', 'labour', 'rate', 'peace', 'development', 'markets', 'way', 'time', 'dichotomy', 'wars', 'politics', 'forces', 'business', 'progress', 'value', 'inflation', 'policy', 'class', 'globalization', 'power', 'terms', 'tendency', 'wages', 'employment', 'economics', 'prices', 'production', 'tradition', 'cost', 'globalizations'}\n"
     ]
    }
   ],
   "source": [
    "filteredNouns = Filter(CapitatlismNouns)\n",
    "print(filteredNouns)"
   ]
  },
  {
   "cell_type": "code",
   "execution_count": 69,
   "id": "b4085451",
   "metadata": {
    "scrolled": true
   },
   "outputs": [
    {
     "name": "stdout",
     "output_type": "stream",
     "text": [
      "{'losses', 'states', 'methodology', 'method-', 'entrepreneurs', 'regularity', 'profitability', 'number', 'limit', 'institutions', 'sorts', 'whole', 'ables', 'capi-', 'sustainability', 'localities', 'level', 'reviews', 'form', 'approaches', 'study', 'matter', 'teacher', 'tacit', 'project', 'responses', 'nations', 'circumstances', 'while', 'a', 'university', 'busts', 'author(s', 'history', 'advantages', 'ethico-', 'review', 'iii', 'article', 'memorable', 'levels', 'heterodoxy', 'concerns', 'work', 'health', 'era', 'versa', 'picture', 'studies', 'topics', 'world', 'eman-', 'decreases', 'need', 'claims', 'use', 'orientation', 'uncertainties', 'worker', 'importance', 'times', 'metaphor', 'pessimist', 'event', 'decline', 'reliance', 'discussions', 'anthropology', 'mapping', 'distribution', 'speakers', 'ism', 'upswing', 'gaze', 'pessimism', 'origins', 'effects', 'demi', 'future', 'grounds', 'stories', 'conflict', 'downs', 'causes', 'society', 'structures', 'homeland', 'forms', 'patterns', 'struggles', 'orthodox', 'avenue', 'turn', 'references', 'alternative', 'evidence', 'limits', 'part', 'cre-', 'impact', 'ambition', 'year', 'pro-', 'characteristics', 'difficulties', 'intensity', 'implication', 'injection', 'success', 'poten-', 'contrast', 'ideas', 'question', 'appraisal', 'possibility', 'welfare', 'trend', 'post', 'reading', 'share', 'points', 'happening', 'engagement', 'alism', 'estimation', 'stand', 'realities', 'disorder', 'basis', 'formu-', 'financialization', 'foundation', 'rise', 'war', 'lot', 'mind', 'stage', 'unevenness', 'intentions', 'decades', 'deviations', 'b', 'subjectivity', 'land-', 'm.e.sharpe', 'differences', 'processes', 'metaphysics', 'bargaining', 'assumption', 'per-', 'centuries', 'vice', 'wave', 'observations', 'theorists', 'set', 'regions', 'position', 'capitalists', 'claim', 'reasons', 'ductivity', 'ering', 'dard', 'gain', 'conceptions', 'gdp', 'student', 'gravitates', 'curricu-', 'pattern', 'constraints', 'access', 'strategy', 'articles', 'outcome', 'gravitation', 'cal', 'edifice', 'others', 'data', 'point', 'crises', 're', 'analyti-', 'develop-', 'conjunctions', 'understanding', 'fall', 'case', 'utilization', 'i', 'syklit', 'criticism', 'orthodoxy', 'incomes', 'objective', 'seeking', 'thing', 'measurability', 'ation', 'meaning', 'laws', 'taxes', 'chimera', 'conclusions', 'source', 'individuals', 'convergence', 'pat-', 'conclusion', 'idea', 'ten-', 'discourse', 'thinking', 'say', 'approach', 'vision', 'frequencies', 'capital-', 'tenets', 'stan-', 'turning', 'contrary', 'spite', 'concern', '1820s', 'period', 'role', 'techniques', 'alienation', 'living', 'bit', 'advice', 'dependency', 'ments', 'viewpoint', 'tactics', 'conditions', 'planetary', 'strength', 'causation', 'space', 'truth', 'dency', 'consumers', 'journal', 'degrees', 'art', 'macrohistory', 'principles', 'requirements', 'capita', 'aspect', 'discussion', 'nature', 'accumulation', 'curriculum', 'relationships', 'writing', 'story', 'medium', 'connections', 'average', 'attempt', 'dominance', 'container', 'booms', 'turbulence', 'instance', 'accounts', 'productivity', 'metamodel', 'politico', 'century', 'kinds', 'recoveries', 'thinker', 'learning', 'regularities', 'journey', 'debates', 'reproduction', 'standards', 'being', 'views', 'step', 'alternatives', 'behaviour', 'transformation', '1970s', 'models', 'ontology', 'constellation', 'interpretation', 'problematic', 'mathematics', 'fashion', 'imbalances', 'assumptions', 'outcomes', 'passages', 'realist', 'periods', 'homepage', 'explanations', 'turmoil', 'pathways', 'controversies', 'ups', 'consciousness', 'criti-', 'view', 'purpose', 'improvements', 'handbook', 'rises', 'circle', 'constructs', 'break-', 'mechanisms', 'variety', '%', 'chapter', 'theories', 'winners', 'scape', 'example', 'contentions', '2010s', 'talists', 'particularities', 'origin', 'modelling', 'mode', 'scope', 'lum', 'profits', 'thesis', 'struggle', 'undertaking', 'philosophy', 'movement', 'self', 'difference', 'book', 'image', 'investments', 'phd', 'modernity', 'half', 'end', 'economists', 'argument', 'education', 'developments', 'clarifies', 'amount', 'systems', 'lation', 'waves', 'response', 'changes', 'change', 'tendencies', 'agreement', 'meanderings', 'ways', 'ology', 'cipation', 'variables', 'acceleration', 'capit-'}\n"
     ]
    }
   ],
   "source": [
    "nounsRemoved = wordsRemoved(filteredNouns, toLowerCase(clean(CapitatlismNouns)))\n",
    "print(nounsRemoved)"
   ]
  },
  {
   "cell_type": "code",
   "execution_count": 70,
   "id": "ff39fa72",
   "metadata": {
    "scrolled": true
   },
   "outputs": [
    {
     "name": "stdout",
     "output_type": "stream",
     "text": [
      "{'capital', 'agency', 'figure', 'opinion', 'savings', 'advance', 'workers', 'policies', 'market', 'title', 'benefit', 'output', 'trade', 'gold', 'nation', 'theory', 'order', 'people', 'socialism', 'goods', 'run', 'costs', 'price', 'wage', 'regulations', 'advantage', 'profit', 'framework', 'surge', 'print', 'return', 'issue', 'unemployment', 'economy', 'state', 'economies', 'income', 'capitalism', 'term', 'competition', 'entry', 'hypothesis', 'trading', 'account', 'democracy', '-', 'firm', 'metaphors', 'methods', 'centre', 'analysis', 'factor', 'problem', 'exchange', 'freedom', 'utility', 'consumer', 'system', 'process', 'powers', 'labour', 'rate', 'peace', 'globalizations', 'development', 'markets', 'risk', 'way', 'time', 'dichotomy', 'motive', 'path', 'hand', 'nationalism', 'wars', 'politics', 'forces', 'business', 'progress', 'monopoly', 'population', 'value', 'supply', 'demand', 'model', 'inflation', 'policy', 'class', 'globalization', 'power', 'terms', 'money', 'tendency', 'crisis', 'standard', 'wages', 'balance', 'barriers', 'employment', 'rules', 'economics', 'prices', 'growth', 'production', 'firms', 'tradition', 'creation', 'cost', 'capacity'}\n"
     ]
    }
   ],
   "source": [
    "JargonWords = filteredNouns.union(filteredVerbs)\n",
    "print(JargonWords)"
   ]
  },
  {
   "cell_type": "code",
   "execution_count": 100,
   "id": "fce8583d",
   "metadata": {},
   "outputs": [
    {
     "name": "stdout",
     "output_type": "stream",
     "text": [
      "107\n",
      "3\n",
      "109\n"
     ]
    }
   ],
   "source": [
    "print(len(filteredNouns))\n",
    "print(len(filteredVerbs))\n",
    "print(len(jargon))\n"
   ]
  },
  {
   "cell_type": "code",
   "execution_count": 72,
   "id": "4caecdc8",
   "metadata": {},
   "outputs": [
    {
     "name": "stdout",
     "output_type": "stream",
     "text": [
      "[('world', 14), ('system', 13), ('theory', 12), ('economy', 12), ('capitalism', 11), ('labour', 11), ('book', 10), ('terms', 9), ('rate', 9), ('price', 8)]\n"
     ]
    }
   ],
   "source": [
    "nlp = spacy.load(\"en_core_web_sm\")\n",
    "doc = nlp(Capitalism1)\n",
    "words = [token.text\n",
    "         for token in doc\n",
    "         if not token.is_stop and not token.is_punct]\n",
    "\n",
    "nouns = [token.text\n",
    "         for token in doc\n",
    "         if (not token.is_stop and\n",
    "             not token.is_punct and\n",
    "             token.pos_ == \"NOUN\")]\n",
    "\n",
    "word_freq = Counter(words)\n",
    "common_words = word_freq.most_common(10)\n",
    "\n",
    "noun_freq = Counter(nouns)\n",
    "common_nouns = noun_freq.most_common(10)\n",
    "print(common_nouns)\n"
   ]
  },
  {
   "cell_type": "code",
   "execution_count": 73,
   "id": "f1c3a313",
   "metadata": {
    "scrolled": true
   },
   "outputs": [
    {
     "data": {
      "application/vnd.jupyter.widget-view+json": {
       "model_id": "daaff16620b64cbb9006594a0173d000",
       "version_major": 2,
       "version_minor": 0
      },
      "text/plain": [
       "Downloading:   0%|          | 0.00/230 [00:00<?, ?B/s]"
      ]
     },
     "metadata": {},
     "output_type": "display_data"
    },
    {
     "name": "stderr",
     "output_type": "stream",
     "text": [
      "Couldn't reach server at 'https://s3.amazonaws.com/models.huggingface.co/bert/distilbert-base-uncased-finetuned-sst-2-english-modelcard.json' to download model card file.\n",
      "Creating an empty model card.\n"
     ]
    },
    {
     "name": "stdout",
     "output_type": "stream",
     "text": [
      "[{'label': 'NEGATIVE', 'score': 0.99968994}]\n"
     ]
    }
   ],
   "source": [
    "from transformers import pipeline\n",
    "classifier = pipeline('sentiment-analysis')\n",
    "result = classifier(\n",
    "        \"hate\",\n",
    ")\n",
    "print(result)\n"
   ]
  }
 ],
 "metadata": {
  "kernelspec": {
   "display_name": "Python 3 (ipykernel)",
   "language": "python",
   "name": "python3"
  },
  "language_info": {
   "codemirror_mode": {
    "name": "ipython",
    "version": 3
   },
   "file_extension": ".py",
   "mimetype": "text/x-python",
   "name": "python",
   "nbconvert_exporter": "python",
   "pygments_lexer": "ipython3",
   "version": "3.7.11"
  }
 },
 "nbformat": 4,
 "nbformat_minor": 5
}
